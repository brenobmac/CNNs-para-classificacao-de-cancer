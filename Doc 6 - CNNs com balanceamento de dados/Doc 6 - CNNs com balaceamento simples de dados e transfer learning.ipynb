{
 "cells": [
  {
   "cell_type": "markdown",
   "id": "c935f4cf",
   "metadata": {},
   "source": [
    "# Doc 6 - CNNs com balaceamento simples de dados e transfer learning"
   ]
  },
  {
   "cell_type": "markdown",
   "id": "57cdda8c",
   "metadata": {},
   "source": [
    "Neste notebook tentou-se fazer uma balanceamento para igualar o número de samples de cada uma das classes do test set da base de dados (aprox. 60 para cada classe). Para isso, usou-se a DenseNet com transfer learning.\n",
    "\n",
    "Além disso, foi seguida a sugestão de fazer um resize para um dos valores das imagens do dataset e só depois fazer um downscale de 4."
   ]
  },
  {
   "cell_type": "markdown",
   "id": "1b2d80db",
   "metadata": {},
   "source": [
    "## 1 - Análise inicial de dados"
   ]
  },
  {
   "cell_type": "code",
   "execution_count": 1,
   "id": "6a3aadd7",
   "metadata": {},
   "outputs": [
    {
     "name": "stderr",
     "output_type": "stream",
     "text": [
      "C:\\Users\\breno\\anaconda3\\lib\\site-packages\\scipy\\__init__.py:146: UserWarning: A NumPy version >=1.16.5 and <1.23.0 is required for this version of SciPy (detected version 1.26.4\n",
      "  warnings.warn(f\"A NumPy version >={np_minversion} and <{np_maxversion}\"\n"
     ]
    }
   ],
   "source": [
    "#Imports padrão para o desenvolvimento da rede e visualização do dataset\n",
    "import tensorflow as tf\n",
    "from tensorflow.keras.models import Sequential\n",
    "from tensorflow.keras.layers import Conv2D, MaxPooling2D, Flatten, Dense, Dropout\n",
    "from tensorflow.keras.layers import GlobalAveragePooling2D\n",
    "from tensorflow.keras.preprocessing.image import ImageDataGenerator\n",
    "from tensorflow.keras.preprocessing import image\n",
    "from tensorflow.keras import layers, models, regularizers\n",
    "from tensorflow.keras.callbacks import EarlyStopping\n",
    "from tensorflow.keras.preprocessing.image import img_to_array, load_img\n",
    "from tensorflow.keras.utils import to_categorical\n",
    "from keras.optimizers import Adam\n",
    "from keras.callbacks import ReduceLROnPlateau #Interessante esse aqui - redução do LR se a validation n melhorar\n",
    "from tensorflow.keras.applications import DenseNet121\n",
    "from keras.applications import VGG16\n",
    "from keras.models import Model\n",
    "\n",
    "#Imports \n",
    "import pydicom as dicom\n",
    "import matplotlib.pylab as plt\n",
    "import pandas as pd\n",
    "import os\n",
    "import numpy as np\n",
    "from tabulate import tabulate\n",
    "import tensorflow_io as tfio\n",
    "import tensorflow as tf\n",
    "import cv2\n",
    "from collections import Counter\n",
    "from PIL import Image\n",
    "from pydicom.pixel_data_handlers.util import apply_voi_lut\n",
    "import shutil\n",
    "from pathlib import Path\n",
    "import imagesize\n",
    "import splitfolders\n",
    "from sklearn.metrics import confusion_matrix\n",
    "import seaborn as sns\n",
    "import random"
   ]
  },
  {
   "cell_type": "code",
   "execution_count": 2,
   "id": "e1e98159",
   "metadata": {},
   "outputs": [
    {
     "data": {
      "text/plain": [
       "Text(0.5, 1.0, 'Frequencia de categoria one hot no dataset de teste')"
      ]
     },
     "execution_count": 2,
     "metadata": {},
     "output_type": "execute_result"
    },
    {
     "data": {
      "image/png": "[encoded data removed]",
      "text/plain": [
       "<Figure size 576x432 with 1 Axes>"
      ]
     },
     "metadata": {
      "needs_background": "light"
     },
     "output_type": "display_data"
    }
   ],
   "source": [
    "labels = pd.read_csv(r\"D:\\Coisinhas\\Coisas_UNB\\TCC\\dataset_dcm\\test\\manifest-1617905855234\\BCS-DBT-labels-test-PHASE-2.csv\") #Arquivo dos diagnosticos\n",
    "\n",
    "one_hot_sum = labels[['Normal', 'Actionable', 'Benign', 'Cancer']].sum()\n",
    "\n",
    "plt.figure(figsize=(8, 6))\n",
    "\n",
    "plt.bar(['Normal', 'Actionable', 'Benign', 'Cancer'], one_hot_sum)\n",
    "\n",
    "plt.xlabel('Categorias one hot')\n",
    "plt.ylabel('Frequencia')\n",
    "plt.title('Frequencia de categoria one hot no dataset de teste')"
   ]
  },
  {
   "cell_type": "code",
   "execution_count": 3,
   "id": "b215ea70",
   "metadata": {},
   "outputs": [
    {
     "data": {
      "text/plain": [
       "Normal        1356\n",
       "Actionable     244\n",
       "Benign          61\n",
       "Cancer          60\n",
       "dtype: int64"
      ]
     },
     "execution_count": 3,
     "metadata": {},
     "output_type": "execute_result"
    }
   ],
   "source": [
    "one_hot_sum"
   ]
  },
  {
   "cell_type": "markdown",
   "id": "054719ce",
   "metadata": {},
   "source": [
    "### 1.1 - Criando um dataset \"balanceado\""
   ]
  },
  {
   "cell_type": "markdown",
   "id": "ababe1a2",
   "metadata": {},
   "source": [
    "Vamos balancear o dataset baixado fazendo com que todos tenham uma quantidade aproximadamente igual de imagens."
   ]
  },
  {
   "cell_type": "code",
   "execution_count": 4,
   "id": "00af725f",
   "metadata": {},
   "outputs": [],
   "source": [
    "original_folder = r\"D:\\Coisinhas\\Coisas_UNB\\TCC\\dataset_png\\test\"\n",
    "balanced_folder = r\"balanced_folder\"\n",
    "\n",
    "counts = {\n",
    "    \"normal\": 60,\n",
    "    \"actionable\": 60,\n",
    "    \"benign\": 61,  \n",
    "    \"cancer\": 60   \n",
    "}\n",
    "\n",
    "for category, count in counts.items():\n",
    "    #Pega as classes\n",
    "    category_images = os.listdir(os.path.join(original_folder, category))\n",
    "    #Pega imagens aleatórias de cada classe\n",
    "    random_images = random.sample(category_images, count)\n",
    "    #Cria o folder da classe\n",
    "    os.makedirs(os.path.join(balanced_folder, category), exist_ok=True)\n",
    "    #Joga as imagens da classe no seu respectivo folder\n",
    "    for image in random_images:\n",
    "        shutil.copy(os.path.join(original_folder, category, image), os.path.join(balanced_folder, category))"
   ]
  },
  {
   "cell_type": "code",
   "execution_count": 5,
   "id": "4520a134",
   "metadata": {},
   "outputs": [
    {
     "name": "stdout",
     "output_type": "stream",
     "text": [
      "Numero de imagens de diagnóstico actionable: 60\n"
     ]
    },
    {
     "data": {
      "text/html": [
       "<div>\n",
       "<style scoped>\n",
       "    .dataframe tbody tr th:only-of-type {\n",
       "        vertical-align: middle;\n",
       "    }\n",
       "\n",
       "    .dataframe tbody tr th {\n",
       "        vertical-align: top;\n",
       "    }\n",
       "\n",
       "    .dataframe thead th {\n",
       "        text-align: right;\n",
       "    }\n",
       "</style>\n",
       "<table border=\"1\" class=\"dataframe\">\n",
       "  <thead>\n",
       "    <tr style=\"text-align: right;\">\n",
       "      <th></th>\n",
       "      <th>FileName</th>\n",
       "      <th>Size</th>\n",
       "      <th>Width</th>\n",
       "      <th>Height</th>\n",
       "      <th>Aspect Ratio</th>\n",
       "    </tr>\n",
       "  </thead>\n",
       "  <tbody>\n",
       "    <tr>\n",
       "      <th>0</th>\n",
       "      <td>DBT-P00223_lmlo.png</td>\n",
       "      <td>(1996, 2457)</td>\n",
       "      <td>1996</td>\n",
       "      <td>2457</td>\n",
       "      <td>0.81</td>\n",
       "    </tr>\n",
       "    <tr>\n",
       "      <th>1</th>\n",
       "      <td>DBT-P00223_rmlo.png</td>\n",
       "      <td>(1996, 2457)</td>\n",
       "      <td>1996</td>\n",
       "      <td>2457</td>\n",
       "      <td>0.81</td>\n",
       "    </tr>\n",
       "    <tr>\n",
       "      <th>2</th>\n",
       "      <td>DBT-P00311_rcc.png</td>\n",
       "      <td>(1996, 2457)</td>\n",
       "      <td>1996</td>\n",
       "      <td>2457</td>\n",
       "      <td>0.81</td>\n",
       "    </tr>\n",
       "    <tr>\n",
       "      <th>3</th>\n",
       "      <td>DBT-P00339_rmlo.png</td>\n",
       "      <td>(1996, 2457)</td>\n",
       "      <td>1996</td>\n",
       "      <td>2457</td>\n",
       "      <td>0.81</td>\n",
       "    </tr>\n",
       "    <tr>\n",
       "      <th>4</th>\n",
       "      <td>DBT-P00455_rcc.png</td>\n",
       "      <td>(1996, 2457)</td>\n",
       "      <td>1996</td>\n",
       "      <td>2457</td>\n",
       "      <td>0.81</td>\n",
       "    </tr>\n",
       "    <tr>\n",
       "      <th>5</th>\n",
       "      <td>DBT-P00556_rcc.png</td>\n",
       "      <td>(1890, 2457)</td>\n",
       "      <td>1890</td>\n",
       "      <td>2457</td>\n",
       "      <td>0.77</td>\n",
       "    </tr>\n",
       "    <tr>\n",
       "      <th>6</th>\n",
       "      <td>DBT-P00817_lcc.png</td>\n",
       "      <td>(1996, 2457)</td>\n",
       "      <td>1996</td>\n",
       "      <td>2457</td>\n",
       "      <td>0.81</td>\n",
       "    </tr>\n",
       "    <tr>\n",
       "      <th>7</th>\n",
       "      <td>DBT-P00935_rcc.png</td>\n",
       "      <td>(1996, 2457)</td>\n",
       "      <td>1996</td>\n",
       "      <td>2457</td>\n",
       "      <td>0.81</td>\n",
       "    </tr>\n",
       "    <tr>\n",
       "      <th>8</th>\n",
       "      <td>DBT-P00984_lmlo.png</td>\n",
       "      <td>(1890, 2457)</td>\n",
       "      <td>1890</td>\n",
       "      <td>2457</td>\n",
       "      <td>0.77</td>\n",
       "    </tr>\n",
       "    <tr>\n",
       "      <th>9</th>\n",
       "      <td>DBT-P00984_rcc.png</td>\n",
       "      <td>(1890, 2457)</td>\n",
       "      <td>1890</td>\n",
       "      <td>2457</td>\n",
       "      <td>0.77</td>\n",
       "    </tr>\n",
       "  </tbody>\n",
       "</table>\n",
       "</div>"
      ],
      "text/plain": [
       "              FileName          Size  Width  Height  Aspect Ratio\n",
       "0  DBT-P00223_lmlo.png  (1996, 2457)   1996    2457          0.81\n",
       "1  DBT-P00223_rmlo.png  (1996, 2457)   1996    2457          0.81\n",
       "2   DBT-P00311_rcc.png  (1996, 2457)   1996    2457          0.81\n",
       "3  DBT-P00339_rmlo.png  (1996, 2457)   1996    2457          0.81\n",
       "4   DBT-P00455_rcc.png  (1996, 2457)   1996    2457          0.81\n",
       "5   DBT-P00556_rcc.png  (1890, 2457)   1890    2457          0.77\n",
       "6   DBT-P00817_lcc.png  (1996, 2457)   1996    2457          0.81\n",
       "7   DBT-P00935_rcc.png  (1996, 2457)   1996    2457          0.81\n",
       "8  DBT-P00984_lmlo.png  (1890, 2457)   1890    2457          0.77\n",
       "9   DBT-P00984_rcc.png  (1890, 2457)   1890    2457          0.77"
      ]
     },
     "execution_count": 5,
     "metadata": {},
     "output_type": "execute_result"
    }
   ],
   "source": [
    "# Analise das resolucoes das imagens actionable\n",
    "file_path = r'D:\\Coisinhas\\Coisas_UNB\\TCC\\Notebooks\\Doc 6 - CNNs com balanceamento de dados\\balanced_folder\\actionable\\\\'\n",
    "actionable = [img.name for img in Path(file_path).iterdir() if img.suffix == \".png\"]\n",
    "actionable_meta = {}\n",
    "for f in actionable: actionable_meta[str(f)] = imagesize.get(file_path+f)\n",
    "\n",
    "#Conversao para um dataframe e analise das dimensoes\n",
    "actionable_meta_df = pd.DataFrame.from_dict([actionable_meta]).T.reset_index().set_axis(['FileName', 'Size'], axis='columns', inplace=False)\n",
    "actionable_meta_df[[\"Width\", \"Height\"]] = pd.DataFrame(actionable_meta_df[\"Size\"].tolist(), index=actionable_meta_df.index)\n",
    "actionable_meta_df[\"Aspect Ratio\"] = round(actionable_meta_df[\"Width\"] / actionable_meta_df[\"Height\"], 2)\n",
    "\n",
    "print(f'Numero de imagens de diagnóstico actionable: {len(actionable_meta_df)}')\n",
    "actionable_meta_df.head(10)"
   ]
  },
  {
   "cell_type": "code",
   "execution_count": 6,
   "id": "ea9d1c1c",
   "metadata": {},
   "outputs": [
    {
     "name": "stdout",
     "output_type": "stream",
     "text": [
      "(1996, 2457)    40\n",
      "(1890, 2457)    20\n",
      "Name: Size, dtype: int64\n"
     ]
    }
   ],
   "source": [
    "print(actionable_meta_df['Size'].value_counts())"
   ]
  },
  {
   "cell_type": "code",
   "execution_count": 7,
   "id": "4b4caf1f",
   "metadata": {},
   "outputs": [
    {
     "data": {
      "text/plain": [
       "Text(0, 0.5, 'Height')"
      ]
     },
     "execution_count": 7,
     "metadata": {},
     "output_type": "execute_result"
    },
    {
     "data": {
      "image/png": "[encoded data removed]",
      "text/plain": [
       "<Figure size 576x576 with 1 Axes>"
      ]
     },
     "metadata": {
      "needs_background": "light"
     },
     "output_type": "display_data"
    }
   ],
   "source": [
    "#Visualização das resoluções\n",
    "\n",
    "fig = plt.figure(figsize=(8, 8))\n",
    "ax = fig.add_subplot(111)\n",
    "points = ax.scatter(actionable_meta_df.Width, actionable_meta_df.Height, color='blue', alpha=0.5, s=actionable_meta_df[\"Aspect Ratio\"]*100, picker=True)\n",
    "ax.set_title(\"Image Resolution\")\n",
    "ax.set_xlabel(\"Width\", size=14)\n",
    "ax.set_ylabel(\"Height\", size=14)"
   ]
  },
  {
   "cell_type": "code",
   "execution_count": 8,
   "id": "162ee1cb",
   "metadata": {},
   "outputs": [
    {
     "name": "stdout",
     "output_type": "stream",
     "text": [
      "Numero de imagens de diagnóstico benign: 61\n"
     ]
    },
    {
     "data": {
      "text/html": [
       "<div>\n",
       "<style scoped>\n",
       "    .dataframe tbody tr th:only-of-type {\n",
       "        vertical-align: middle;\n",
       "    }\n",
       "\n",
       "    .dataframe tbody tr th {\n",
       "        vertical-align: top;\n",
       "    }\n",
       "\n",
       "    .dataframe thead th {\n",
       "        text-align: right;\n",
       "    }\n",
       "</style>\n",
       "<table border=\"1\" class=\"dataframe\">\n",
       "  <thead>\n",
       "    <tr style=\"text-align: right;\">\n",
       "      <th></th>\n",
       "      <th>FileName</th>\n",
       "      <th>Size</th>\n",
       "      <th>Width</th>\n",
       "      <th>Height</th>\n",
       "      <th>Aspect Ratio</th>\n",
       "    </tr>\n",
       "  </thead>\n",
       "  <tbody>\n",
       "    <tr>\n",
       "      <th>0</th>\n",
       "      <td>DBT-P00221_lcc.png</td>\n",
       "      <td>(1890, 2457)</td>\n",
       "      <td>1890</td>\n",
       "      <td>2457</td>\n",
       "      <td>0.77</td>\n",
       "    </tr>\n",
       "    <tr>\n",
       "      <th>1</th>\n",
       "      <td>DBT-P00221_lmlo.png</td>\n",
       "      <td>(1996, 2457)</td>\n",
       "      <td>1996</td>\n",
       "      <td>2457</td>\n",
       "      <td>0.81</td>\n",
       "    </tr>\n",
       "    <tr>\n",
       "      <th>2</th>\n",
       "      <td>DBT-P00332_rcc.png</td>\n",
       "      <td>(1996, 2457)</td>\n",
       "      <td>1996</td>\n",
       "      <td>2457</td>\n",
       "      <td>0.81</td>\n",
       "    </tr>\n",
       "    <tr>\n",
       "      <th>3</th>\n",
       "      <td>DBT-P00332_rmlo.png</td>\n",
       "      <td>(1996, 2457)</td>\n",
       "      <td>1996</td>\n",
       "      <td>2457</td>\n",
       "      <td>0.81</td>\n",
       "    </tr>\n",
       "    <tr>\n",
       "      <th>4</th>\n",
       "      <td>DBT-P00472_lcc.png</td>\n",
       "      <td>(1890, 2457)</td>\n",
       "      <td>1890</td>\n",
       "      <td>2457</td>\n",
       "      <td>0.77</td>\n",
       "    </tr>\n",
       "    <tr>\n",
       "      <th>5</th>\n",
       "      <td>DBT-P00472_lmlo.png</td>\n",
       "      <td>(1890, 2457)</td>\n",
       "      <td>1890</td>\n",
       "      <td>2457</td>\n",
       "      <td>0.77</td>\n",
       "    </tr>\n",
       "    <tr>\n",
       "      <th>6</th>\n",
       "      <td>DBT-P00629_lcc.png</td>\n",
       "      <td>(1890, 2457)</td>\n",
       "      <td>1890</td>\n",
       "      <td>2457</td>\n",
       "      <td>0.77</td>\n",
       "    </tr>\n",
       "    <tr>\n",
       "      <th>7</th>\n",
       "      <td>DBT-P00629_lmlo.png</td>\n",
       "      <td>(1890, 2457)</td>\n",
       "      <td>1890</td>\n",
       "      <td>2457</td>\n",
       "      <td>0.77</td>\n",
       "    </tr>\n",
       "    <tr>\n",
       "      <th>8</th>\n",
       "      <td>DBT-P00715_lcc.png</td>\n",
       "      <td>(1996, 2457)</td>\n",
       "      <td>1996</td>\n",
       "      <td>2457</td>\n",
       "      <td>0.81</td>\n",
       "    </tr>\n",
       "    <tr>\n",
       "      <th>9</th>\n",
       "      <td>DBT-P00715_lmlo.png</td>\n",
       "      <td>(1996, 2457)</td>\n",
       "      <td>1996</td>\n",
       "      <td>2457</td>\n",
       "      <td>0.81</td>\n",
       "    </tr>\n",
       "  </tbody>\n",
       "</table>\n",
       "</div>"
      ],
      "text/plain": [
       "              FileName          Size  Width  Height  Aspect Ratio\n",
       "0   DBT-P00221_lcc.png  (1890, 2457)   1890    2457          0.77\n",
       "1  DBT-P00221_lmlo.png  (1996, 2457)   1996    2457          0.81\n",
       "2   DBT-P00332_rcc.png  (1996, 2457)   1996    2457          0.81\n",
       "3  DBT-P00332_rmlo.png  (1996, 2457)   1996    2457          0.81\n",
       "4   DBT-P00472_lcc.png  (1890, 2457)   1890    2457          0.77\n",
       "5  DBT-P00472_lmlo.png  (1890, 2457)   1890    2457          0.77\n",
       "6   DBT-P00629_lcc.png  (1890, 2457)   1890    2457          0.77\n",
       "7  DBT-P00629_lmlo.png  (1890, 2457)   1890    2457          0.77\n",
       "8   DBT-P00715_lcc.png  (1996, 2457)   1996    2457          0.81\n",
       "9  DBT-P00715_lmlo.png  (1996, 2457)   1996    2457          0.81"
      ]
     },
     "execution_count": 8,
     "metadata": {},
     "output_type": "execute_result"
    }
   ],
   "source": [
    "# Analise das resolucoes das imagens benign\n",
    "file_path = r\"D:\\Coisinhas\\Coisas_UNB\\TCC\\Notebooks\\Doc 6 - CNNs com balanceamento de dados\\balanced_folder\\benign\\\\\"\n",
    "benign = [img.name for img in Path(file_path).iterdir() if img.suffix == \".png\"]\n",
    "benign_meta = {}\n",
    "for f in benign: benign_meta[str(f)] = imagesize.get(file_path+f)\n",
    "\n",
    "#Conversao para um dataframe e analise das dimensoes\n",
    "benign_meta_df = pd.DataFrame.from_dict([benign_meta]).T.reset_index().set_axis(['FileName', 'Size'], axis='columns', inplace=False)\n",
    "benign_meta_df[[\"Width\", \"Height\"]] = pd.DataFrame(benign_meta_df[\"Size\"].tolist(), index=benign_meta_df.index)\n",
    "benign_meta_df[\"Aspect Ratio\"] = round(benign_meta_df[\"Width\"] / benign_meta_df[\"Height\"], 2)\n",
    "\n",
    "print(f'Numero de imagens de diagnóstico benign: {len(benign_meta_df)}')\n",
    "benign_meta_df.head(10)"
   ]
  },
  {
   "cell_type": "code",
   "execution_count": 9,
   "id": "ed275ab4",
   "metadata": {},
   "outputs": [
    {
     "name": "stdout",
     "output_type": "stream",
     "text": [
      "(1996, 2457)    34\n",
      "(1890, 2457)    27\n",
      "Name: Size, dtype: int64\n"
     ]
    }
   ],
   "source": [
    "print(benign_meta_df['Size'].value_counts())"
   ]
  },
  {
   "cell_type": "code",
   "execution_count": 10,
   "id": "a96b443f",
   "metadata": {},
   "outputs": [
    {
     "data": {
      "text/plain": [
       "Text(0, 0.5, 'Height')"
      ]
     },
     "execution_count": 10,
     "metadata": {},
     "output_type": "execute_result"
    },
    {
     "data": {
      "image/png": "[encoded data removed]",
      "text/plain": [
       "<Figure size 576x576 with 1 Axes>"
      ]
     },
     "metadata": {
      "needs_background": "light"
     },
     "output_type": "display_data"
    }
   ],
   "source": [
    "#Visualização das resoluções\n",
    "\n",
    "fig = plt.figure(figsize=(8, 8))\n",
    "ax = fig.add_subplot(111)\n",
    "points = ax.scatter(benign_meta_df.Width, benign_meta_df.Height, color='blue', alpha=0.5, s=benign_meta_df[\"Aspect Ratio\"]*100, picker=True)\n",
    "ax.set_title(\"Image Resolution\")\n",
    "ax.set_xlabel(\"Width\", size=14)\n",
    "ax.set_ylabel(\"Height\", size=14)"
   ]
  },
  {
   "cell_type": "code",
   "execution_count": 11,
   "id": "29dcb90c",
   "metadata": {},
   "outputs": [
    {
     "name": "stdout",
     "output_type": "stream",
     "text": [
      "Numero de imagens de diagnóstico cancer: 60\n"
     ]
    },
    {
     "data": {
      "text/html": [
       "<div>\n",
       "<style scoped>\n",
       "    .dataframe tbody tr th:only-of-type {\n",
       "        vertical-align: middle;\n",
       "    }\n",
       "\n",
       "    .dataframe tbody tr th {\n",
       "        vertical-align: top;\n",
       "    }\n",
       "\n",
       "    .dataframe thead th {\n",
       "        text-align: right;\n",
       "    }\n",
       "</style>\n",
       "<table border=\"1\" class=\"dataframe\">\n",
       "  <thead>\n",
       "    <tr style=\"text-align: right;\">\n",
       "      <th></th>\n",
       "      <th>FileName</th>\n",
       "      <th>Size</th>\n",
       "      <th>Width</th>\n",
       "      <th>Height</th>\n",
       "      <th>Aspect Ratio</th>\n",
       "    </tr>\n",
       "  </thead>\n",
       "  <tbody>\n",
       "    <tr>\n",
       "      <th>0</th>\n",
       "      <td>DBT-P00277_lcc.png</td>\n",
       "      <td>(1890, 2457)</td>\n",
       "      <td>1890</td>\n",
       "      <td>2457</td>\n",
       "      <td>0.77</td>\n",
       "    </tr>\n",
       "    <tr>\n",
       "      <th>1</th>\n",
       "      <td>DBT-P00277_lmlo.png</td>\n",
       "      <td>(1890, 2457)</td>\n",
       "      <td>1890</td>\n",
       "      <td>2457</td>\n",
       "      <td>0.77</td>\n",
       "    </tr>\n",
       "    <tr>\n",
       "      <th>2</th>\n",
       "      <td>DBT-P00318_rcc.png</td>\n",
       "      <td>(1890, 2457)</td>\n",
       "      <td>1890</td>\n",
       "      <td>2457</td>\n",
       "      <td>0.77</td>\n",
       "    </tr>\n",
       "    <tr>\n",
       "      <th>3</th>\n",
       "      <td>DBT-P00318_rmlo.png</td>\n",
       "      <td>(1890, 2457)</td>\n",
       "      <td>1890</td>\n",
       "      <td>2457</td>\n",
       "      <td>0.77</td>\n",
       "    </tr>\n",
       "    <tr>\n",
       "      <th>4</th>\n",
       "      <td>DBT-P00387_rcc.png</td>\n",
       "      <td>(1996, 2457)</td>\n",
       "      <td>1996</td>\n",
       "      <td>2457</td>\n",
       "      <td>0.81</td>\n",
       "    </tr>\n",
       "    <tr>\n",
       "      <th>5</th>\n",
       "      <td>DBT-P00387_rmlo.png</td>\n",
       "      <td>(1996, 2457)</td>\n",
       "      <td>1996</td>\n",
       "      <td>2457</td>\n",
       "      <td>0.81</td>\n",
       "    </tr>\n",
       "    <tr>\n",
       "      <th>6</th>\n",
       "      <td>DBT-P00659_lcc.png</td>\n",
       "      <td>(1890, 2457)</td>\n",
       "      <td>1890</td>\n",
       "      <td>2457</td>\n",
       "      <td>0.77</td>\n",
       "    </tr>\n",
       "    <tr>\n",
       "      <th>7</th>\n",
       "      <td>DBT-P00659_lmlo.png</td>\n",
       "      <td>(1890, 2457)</td>\n",
       "      <td>1890</td>\n",
       "      <td>2457</td>\n",
       "      <td>0.77</td>\n",
       "    </tr>\n",
       "    <tr>\n",
       "      <th>8</th>\n",
       "      <td>DBT-P00675_lcc.png</td>\n",
       "      <td>(1996, 2457)</td>\n",
       "      <td>1996</td>\n",
       "      <td>2457</td>\n",
       "      <td>0.81</td>\n",
       "    </tr>\n",
       "    <tr>\n",
       "      <th>9</th>\n",
       "      <td>DBT-P00675_lmlo.png</td>\n",
       "      <td>(1996, 2457)</td>\n",
       "      <td>1996</td>\n",
       "      <td>2457</td>\n",
       "      <td>0.81</td>\n",
       "    </tr>\n",
       "  </tbody>\n",
       "</table>\n",
       "</div>"
      ],
      "text/plain": [
       "              FileName          Size  Width  Height  Aspect Ratio\n",
       "0   DBT-P00277_lcc.png  (1890, 2457)   1890    2457          0.77\n",
       "1  DBT-P00277_lmlo.png  (1890, 2457)   1890    2457          0.77\n",
       "2   DBT-P00318_rcc.png  (1890, 2457)   1890    2457          0.77\n",
       "3  DBT-P00318_rmlo.png  (1890, 2457)   1890    2457          0.77\n",
       "4   DBT-P00387_rcc.png  (1996, 2457)   1996    2457          0.81\n",
       "5  DBT-P00387_rmlo.png  (1996, 2457)   1996    2457          0.81\n",
       "6   DBT-P00659_lcc.png  (1890, 2457)   1890    2457          0.77\n",
       "7  DBT-P00659_lmlo.png  (1890, 2457)   1890    2457          0.77\n",
       "8   DBT-P00675_lcc.png  (1996, 2457)   1996    2457          0.81\n",
       "9  DBT-P00675_lmlo.png  (1996, 2457)   1996    2457          0.81"
      ]
     },
     "execution_count": 11,
     "metadata": {},
     "output_type": "execute_result"
    }
   ],
   "source": [
    "# Analise das resolucoes das imagens cancer\n",
    "file_path = r'D:\\Coisinhas\\Coisas_UNB\\TCC\\Notebooks\\Doc 6 - CNNs com balanceamento de dados\\balanced_folder\\cancer\\\\'\n",
    "cancer = [img.name for img in Path(file_path).iterdir() if img.suffix == \".png\"]\n",
    "cancer_meta = {}\n",
    "for f in cancer: cancer_meta[str(f)] = imagesize.get(file_path+f)\n",
    "\n",
    "#Conversao para um dataframe e analise das dimensoes\n",
    "cancer_meta_df = pd.DataFrame.from_dict([cancer_meta]).T.reset_index().set_axis(['FileName', 'Size'], axis='columns', inplace=False)\n",
    "cancer_meta_df[[\"Width\", \"Height\"]] = pd.DataFrame(cancer_meta_df[\"Size\"].tolist(), index=cancer_meta_df.index)\n",
    "cancer_meta_df[\"Aspect Ratio\"] = round(cancer_meta_df[\"Width\"] / cancer_meta_df[\"Height\"], 2)\n",
    "\n",
    "print(f'Numero de imagens de diagnóstico cancer: {len(actionable_meta_df)}')\n",
    "cancer_meta_df.head(10)"
   ]
  },
  {
   "cell_type": "code",
   "execution_count": 12,
   "id": "2f4958b1",
   "metadata": {},
   "outputs": [
    {
     "name": "stdout",
     "output_type": "stream",
     "text": [
      "(1996, 2457)    36\n",
      "(1890, 2457)    24\n",
      "Name: Size, dtype: int64\n"
     ]
    }
   ],
   "source": [
    "print(cancer_meta_df['Size'].value_counts())"
   ]
  },
  {
   "cell_type": "code",
   "execution_count": 13,
   "id": "795d0474",
   "metadata": {},
   "outputs": [
    {
     "data": {
      "text/plain": [
       "Text(0, 0.5, 'Height')"
      ]
     },
     "execution_count": 13,
     "metadata": {},
     "output_type": "execute_result"
    },
    {
     "data": {
      "image/png": "[encoded data removed]",
      "text/plain": [
       "<Figure size 576x576 with 1 Axes>"
      ]
     },
     "metadata": {
      "needs_background": "light"
     },
     "output_type": "display_data"
    }
   ],
   "source": [
    "#Visualização das resoluções\n",
    "\n",
    "fig = plt.figure(figsize=(8, 8))\n",
    "ax = fig.add_subplot(111)\n",
    "points = ax.scatter(actionable_meta_df.Width, actionable_meta_df.Height, color='blue', alpha=0.5, s=actionable_meta_df[\"Aspect Ratio\"]*100, picker=True)\n",
    "ax.set_title(\"Image Resolution\")\n",
    "ax.set_xlabel(\"Width\", size=14)\n",
    "ax.set_ylabel(\"Height\", size=14)"
   ]
  },
  {
   "cell_type": "code",
   "execution_count": 14,
   "id": "dd70d909",
   "metadata": {},
   "outputs": [
    {
     "name": "stdout",
     "output_type": "stream",
     "text": [
      "Numero de imagens de diagnóstico actionable: 60\n"
     ]
    },
    {
     "data": {
      "text/html": [
       "<div>\n",
       "<style scoped>\n",
       "    .dataframe tbody tr th:only-of-type {\n",
       "        vertical-align: middle;\n",
       "    }\n",
       "\n",
       "    .dataframe tbody tr th {\n",
       "        vertical-align: top;\n",
       "    }\n",
       "\n",
       "    .dataframe thead th {\n",
       "        text-align: right;\n",
       "    }\n",
       "</style>\n",
       "<table border=\"1\" class=\"dataframe\">\n",
       "  <thead>\n",
       "    <tr style=\"text-align: right;\">\n",
       "      <th></th>\n",
       "      <th>FileName</th>\n",
       "      <th>Size</th>\n",
       "      <th>Width</th>\n",
       "      <th>Height</th>\n",
       "      <th>Aspect Ratio</th>\n",
       "    </tr>\n",
       "  </thead>\n",
       "  <tbody>\n",
       "    <tr>\n",
       "      <th>0</th>\n",
       "      <td>DBT-P00021_lmlo.png</td>\n",
       "      <td>(1890, 2457)</td>\n",
       "      <td>1890</td>\n",
       "      <td>2457</td>\n",
       "      <td>0.77</td>\n",
       "    </tr>\n",
       "    <tr>\n",
       "      <th>1</th>\n",
       "      <td>DBT-P00092_lcc.png</td>\n",
       "      <td>(1996, 2457)</td>\n",
       "      <td>1996</td>\n",
       "      <td>2457</td>\n",
       "      <td>0.81</td>\n",
       "    </tr>\n",
       "    <tr>\n",
       "      <th>2</th>\n",
       "      <td>DBT-P00118_rmlo.png</td>\n",
       "      <td>(1890, 2457)</td>\n",
       "      <td>1890</td>\n",
       "      <td>2457</td>\n",
       "      <td>0.77</td>\n",
       "    </tr>\n",
       "    <tr>\n",
       "      <th>3</th>\n",
       "      <td>DBT-P00192_lmlo.png</td>\n",
       "      <td>(1890, 2457)</td>\n",
       "      <td>1890</td>\n",
       "      <td>2457</td>\n",
       "      <td>0.77</td>\n",
       "    </tr>\n",
       "    <tr>\n",
       "      <th>4</th>\n",
       "      <td>DBT-P00276_rmlo.png</td>\n",
       "      <td>(1890, 2457)</td>\n",
       "      <td>1890</td>\n",
       "      <td>2457</td>\n",
       "      <td>0.77</td>\n",
       "    </tr>\n",
       "    <tr>\n",
       "      <th>5</th>\n",
       "      <td>DBT-P00339_rcc.png</td>\n",
       "      <td>(1996, 2457)</td>\n",
       "      <td>1996</td>\n",
       "      <td>2457</td>\n",
       "      <td>0.81</td>\n",
       "    </tr>\n",
       "    <tr>\n",
       "      <th>6</th>\n",
       "      <td>DBT-P00392_lmlo.png</td>\n",
       "      <td>(1890, 2457)</td>\n",
       "      <td>1890</td>\n",
       "      <td>2457</td>\n",
       "      <td>0.77</td>\n",
       "    </tr>\n",
       "    <tr>\n",
       "      <th>7</th>\n",
       "      <td>DBT-P00392_rmlo.png</td>\n",
       "      <td>(1890, 2457)</td>\n",
       "      <td>1890</td>\n",
       "      <td>2457</td>\n",
       "      <td>0.77</td>\n",
       "    </tr>\n",
       "    <tr>\n",
       "      <th>8</th>\n",
       "      <td>DBT-P00471_lcc.png</td>\n",
       "      <td>(1996, 2457)</td>\n",
       "      <td>1996</td>\n",
       "      <td>2457</td>\n",
       "      <td>0.81</td>\n",
       "    </tr>\n",
       "    <tr>\n",
       "      <th>9</th>\n",
       "      <td>DBT-P00496_lcc.png</td>\n",
       "      <td>(1890, 2457)</td>\n",
       "      <td>1890</td>\n",
       "      <td>2457</td>\n",
       "      <td>0.77</td>\n",
       "    </tr>\n",
       "  </tbody>\n",
       "</table>\n",
       "</div>"
      ],
      "text/plain": [
       "              FileName          Size  Width  Height  Aspect Ratio\n",
       "0  DBT-P00021_lmlo.png  (1890, 2457)   1890    2457          0.77\n",
       "1   DBT-P00092_lcc.png  (1996, 2457)   1996    2457          0.81\n",
       "2  DBT-P00118_rmlo.png  (1890, 2457)   1890    2457          0.77\n",
       "3  DBT-P00192_lmlo.png  (1890, 2457)   1890    2457          0.77\n",
       "4  DBT-P00276_rmlo.png  (1890, 2457)   1890    2457          0.77\n",
       "5   DBT-P00339_rcc.png  (1996, 2457)   1996    2457          0.81\n",
       "6  DBT-P00392_lmlo.png  (1890, 2457)   1890    2457          0.77\n",
       "7  DBT-P00392_rmlo.png  (1890, 2457)   1890    2457          0.77\n",
       "8   DBT-P00471_lcc.png  (1996, 2457)   1996    2457          0.81\n",
       "9   DBT-P00496_lcc.png  (1890, 2457)   1890    2457          0.77"
      ]
     },
     "execution_count": 14,
     "metadata": {},
     "output_type": "execute_result"
    }
   ],
   "source": [
    "# Analise das resolucoes das imagens normais\n",
    "file_path = r'D:\\Coisinhas\\Coisas_UNB\\TCC\\Notebooks\\Doc 6 - CNNs com balanceamento de dados\\balanced_folder\\normal\\\\'\n",
    "actionable = [img.name for img in Path(file_path).iterdir() if img.suffix == \".png\"]\n",
    "actionable_meta = {}\n",
    "for f in actionable: actionable_meta[str(f)] = imagesize.get(file_path+f)\n",
    "\n",
    "#Conversao para um dataframe e analise das dimensoes\n",
    "actionable_meta_df = pd.DataFrame.from_dict([actionable_meta]).T.reset_index().set_axis(['FileName', 'Size'], axis='columns', inplace=False)\n",
    "actionable_meta_df[[\"Width\", \"Height\"]] = pd.DataFrame(actionable_meta_df[\"Size\"].tolist(), index=actionable_meta_df.index)\n",
    "actionable_meta_df[\"Aspect Ratio\"] = round(actionable_meta_df[\"Width\"] / actionable_meta_df[\"Height\"], 2)\n",
    "\n",
    "print(f'Numero de imagens de diagnóstico actionable: {len(actionable_meta_df)}')\n",
    "actionable_meta_df.head(10)"
   ]
  },
  {
   "cell_type": "code",
   "execution_count": 15,
   "id": "1b879db6",
   "metadata": {},
   "outputs": [
    {
     "name": "stdout",
     "output_type": "stream",
     "text": [
      "(1996, 2457)    35\n",
      "(1890, 2457)    25\n",
      "Name: Size, dtype: int64\n"
     ]
    }
   ],
   "source": [
    "print(actionable_meta_df['Size'].value_counts())"
   ]
  },
  {
   "cell_type": "code",
   "execution_count": 16,
   "id": "8d1a7e44",
   "metadata": {},
   "outputs": [
    {
     "data": {
      "text/plain": [
       "Text(0, 0.5, 'Height')"
      ]
     },
     "execution_count": 16,
     "metadata": {},
     "output_type": "execute_result"
    },
    {
     "data": {
      "image/png": "[encoded data removed]",
      "text/plain": [
       "<Figure size 576x576 with 1 Axes>"
      ]
     },
     "metadata": {
      "needs_background": "light"
     },
     "output_type": "display_data"
    }
   ],
   "source": [
    "#Visualização das resoluções\n",
    "\n",
    "fig = plt.figure(figsize=(8, 8))\n",
    "ax = fig.add_subplot(111)\n",
    "points = ax.scatter(actionable_meta_df.Width, actionable_meta_df.Height, color='blue', alpha=0.5, s=actionable_meta_df[\"Aspect Ratio\"]*100, picker=True)\n",
    "ax.set_title(\"Image Resolution\")\n",
    "ax.set_xlabel(\"Width\", size=14)\n",
    "ax.set_ylabel(\"Height\", size=14)"
   ]
  },
  {
   "cell_type": "code",
   "execution_count": 17,
   "id": "159c2652",
   "metadata": {},
   "outputs": [
    {
     "data": {
      "image/png": "[encoded data removed]",
      "text/plain": [
       "<Figure size 720x432 with 1 Axes>"
      ]
     },
     "metadata": {
      "needs_background": "light"
     },
     "output_type": "display_data"
    }
   ],
   "source": [
    "folder_path = r'D:\\Coisinhas\\Coisas_UNB\\TCC\\Notebooks\\Doc 6 - CNNs com balanceamento de dados\\balanced_folder'\n",
    "\n",
    "class_counts = {}\n",
    "for class_name in os.listdir(folder_path):\n",
    "    class_counts[class_name] = len(os.listdir(os.path.join(folder_path, class_name)))\n",
    "\n",
    "# Plotting the counts\n",
    "plt.figure(figsize=(10, 6))\n",
    "plt.bar(class_counts.keys(), class_counts.values(), color='lightgreen')\n",
    "plt.xlabel('Classe')\n",
    "plt.ylabel('Numero de imagens')\n",
    "plt.title('Numero de imagens por classe')\n",
    "plt.xticks(rotation=45)\n",
    "plt.show()"
   ]
  },
  {
   "cell_type": "markdown",
   "id": "4041c02a",
   "metadata": {},
   "source": [
    "### 1.2 - Resize das imagens"
   ]
  },
  {
   "cell_type": "markdown",
   "id": "860e17c5",
   "metadata": {},
   "source": [
    "Na última reunião, houve a proposta de dar o resize inicial das imagens para um dos dois que vimos que todas as imagens possui e só depois realizar o resize drástico para alimentar na rede, que foi o que foi feito aqui."
   ]
  },
  {
   "cell_type": "code",
   "execution_count": 18,
   "id": "257ece9e",
   "metadata": {},
   "outputs": [
    {
     "name": "stderr",
     "output_type": "stream",
     "text": [
      "C:\\Users\\breno\\AppData\\Local\\Temp\\ipykernel_14052\\1364207737.py:8: DeprecationWarning: ANTIALIAS is deprecated and will be removed in Pillow 10 (2023-07-01). Use LANCZOS or Resampling.LANCZOS instead.\n",
      "  resized_image = image.resize(target_size, Image.ANTIALIAS)\n"
     ]
    }
   ],
   "source": [
    "def resize_images(folder_path, target_size):\n",
    "    for root, dirs, files in os.walk(folder_path):\n",
    "        for file in files:\n",
    "            if file.endswith(\".png\"): \n",
    "                file_path = os.path.join(root, file)\n",
    "                image = Image.open(file_path)\n",
    "                if image.size != target_size:\n",
    "                    resized_image = image.resize(target_size, Image.ANTIALIAS)\n",
    "                    resized_image.save(file_path)\n",
    "                    \n",
    "\n",
    "folder_path = r\"D:\\Coisinhas\\Coisas_UNB\\TCC\\Notebooks\\Doc 6 - CNNs com balanceamento de dados\\balanced_folder\"\n",
    "target_size = (1890, 2457) #Vamos primeiro dar o resize nas imagens que não têm essas dimensões.\n",
    "resize_images(folder_path, target_size)"
   ]
  },
  {
   "cell_type": "code",
   "execution_count": 19,
   "id": "096732be",
   "metadata": {},
   "outputs": [
    {
     "name": "stderr",
     "output_type": "stream",
     "text": [
      "C:\\Users\\breno\\AppData\\Local\\Temp\\ipykernel_14052\\1364207737.py:8: DeprecationWarning: ANTIALIAS is deprecated and will be removed in Pillow 10 (2023-07-01). Use LANCZOS or Resampling.LANCZOS instead.\n",
      "  resized_image = image.resize(target_size, Image.ANTIALIAS)\n"
     ]
    }
   ],
   "source": [
    "#Agora damos um resize de 4 vezes menor.\n",
    "target_size = (1890//4, 2457//4)\n",
    "resize_images(folder_path, target_size)"
   ]
  },
  {
   "cell_type": "markdown",
   "id": "9d516316",
   "metadata": {},
   "source": [
    "### 1.3 - Split dos dataset em train/val/test"
   ]
  },
  {
   "cell_type": "code",
   "execution_count": 20,
   "id": "168596f2",
   "metadata": {},
   "outputs": [
    {
     "name": "stderr",
     "output_type": "stream",
     "text": [
      "Copying files: 241 files [00:01, 133.48 files/s]\n"
     ]
    }
   ],
   "source": [
    "input_folder = 'balanced_folder' \n",
    "output_folder = 'split_data' \n",
    "\n",
    "splitfolders.ratio(input_folder, output_folder, seed=42, ratio=(.7, .15, .15), group_prefix=None) #Train/val/test"
   ]
  },
  {
   "cell_type": "code",
   "execution_count": 21,
   "id": "75064ac9",
   "metadata": {},
   "outputs": [
    {
     "name": "stdout",
     "output_type": "stream",
     "text": [
      "Found 168 images belonging to 4 classes.\n",
      "Found 36 images belonging to 4 classes.\n",
      "Found 37 images belonging to 4 classes.\n"
     ]
    }
   ],
   "source": [
    "data_dir = 'split_data'\n",
    "\n",
    "#Definir dados de treinamento, validação e teste a partir das imagens que temos, aplicar normalização de pixels e categorização de labels\n",
    "train_datagen = tf.keras.preprocessing.image.ImageDataGenerator(rescale=1./255)\n",
    "train_generator = train_datagen.flow_from_directory(\n",
    "    os.path.join(data_dir, 'train'),\n",
    "    target_size = (1890//4, 2457//4),\n",
    "    batch_size=8,\n",
    "    class_mode='categorical',\n",
    "    shuffle = False\n",
    ")\n",
    "\n",
    "val_datagen = tf.keras.preprocessing.image.ImageDataGenerator(rescale=1./255)\n",
    "val_generator = val_datagen.flow_from_directory(\n",
    "    os.path.join(data_dir, 'val'),\n",
    "    target_size = (1890//4, 2457//4),\n",
    "    batch_size=8,\n",
    "    class_mode='categorical',\n",
    "    shuffle = False\n",
    ")\n",
    "\n",
    "test_datagen = tf.keras.preprocessing.image.ImageDataGenerator(rescale=1./255)\n",
    "test_generator = test_datagen.flow_from_directory(\n",
    "    os.path.join(data_dir, 'test'),\n",
    "    target_size = (1890//4, 2457//4),\n",
    "    batch_size=8,\n",
    "    class_mode='categorical',\n",
    "    shuffle = False\n",
    ")"
   ]
  },
  {
   "cell_type": "markdown",
   "id": "ad1b56b9",
   "metadata": {},
   "source": [
    "## 2 - Transfer learning com DenseNet"
   ]
  },
  {
   "cell_type": "code",
   "execution_count": 22,
   "id": "ac70db66",
   "metadata": {},
   "outputs": [],
   "source": [
    "base_model = DenseNet121(weights='imagenet', include_top=False, input_shape=(1890//4, 2457//4, 3))\n",
    "\n",
    "for layer in base_model.layers:\n",
    "    layer.trainable = False\n",
    "    \n",
    "x = Flatten()(base_model.output)\n",
    "x = Dense(128, activation='relu')(x)\n",
    "predictions = Dense(4, activation='softmax')(x)\n",
    "\n",
    "\n",
    "model_densenet = Model(inputs=base_model.input, outputs=predictions)\n",
    "\n",
    "model_densenet.compile(optimizer='adam',\n",
    "              loss='categorical_crossentropy',\n",
    "              metrics=['accuracy'])"
   ]
  },
  {
   "cell_type": "code",
   "execution_count": 23,
   "id": "c9bae945",
   "metadata": {},
   "outputs": [
    {
     "name": "stdout",
     "output_type": "stream",
     "text": [
      "Epoch 1/50\n"
     ]
    },
    {
     "name": "stderr",
     "output_type": "stream",
     "text": [
      "C:\\Users\\breno\\anaconda3\\lib\\site-packages\\keras\\src\\trainers\\data_adapters\\py_dataset_adapter.py:120: UserWarning: Your `PyDataset` class should call `super().__init__(**kwargs)` in its constructor. `**kwargs` can include `workers`, `use_multiprocessing`, `max_queue_size`. Do not pass these arguments to `fit()`, as they will be ignored.\n",
      "  self._warn_if_super_not_called()\n"
     ]
    },
    {
     "name": "stdout",
     "output_type": "stream",
     "text": [
      "\u001b[1m21/21\u001b[0m \u001b[32m━━━━━━━━━━━━━━━━━━━━\u001b[0m\u001b[37m\u001b[0m \u001b[1m138s\u001b[0m 6s/step - accuracy: 0.1971 - loss: 109.7686 - val_accuracy: 0.2222 - val_loss: 5.2137\n",
      "Epoch 2/50\n",
      "\u001b[1m21/21\u001b[0m \u001b[32m━━━━━━━━━━━━━━━━━━━━\u001b[0m\u001b[37m\u001b[0m \u001b[1m101s\u001b[0m 5s/step - accuracy: 0.3960 - loss: 4.1566 - val_accuracy: 0.3333 - val_loss: 1.4194\n",
      "Epoch 3/50\n",
      "\u001b[1m21/21\u001b[0m \u001b[32m━━━━━━━━━━━━━━━━━━━━\u001b[0m\u001b[37m\u001b[0m \u001b[1m100s\u001b[0m 5s/step - accuracy: 0.3905 - loss: 1.3536 - val_accuracy: 0.2500 - val_loss: 1.3863\n",
      "Epoch 4/50\n",
      "\u001b[1m21/21\u001b[0m \u001b[32m━━━━━━━━━━━━━━━━━━━━\u001b[0m\u001b[37m\u001b[0m \u001b[1m97s\u001b[0m 5s/step - accuracy: 0.3968 - loss: 1.3570 - val_accuracy: 0.2500 - val_loss: 1.3865\n",
      "Epoch 5/50\n",
      "\u001b[1m21/21\u001b[0m \u001b[32m━━━━━━━━━━━━━━━━━━━━\u001b[0m\u001b[37m\u001b[0m \u001b[1m87s\u001b[0m 4s/step - accuracy: 0.2239 - loss: 1.3539 - val_accuracy: 0.2500 - val_loss: 1.3863\n",
      "Epoch 6/50\n",
      "\u001b[1m21/21\u001b[0m \u001b[32m━━━━━━━━━━━━━━━━━━━━\u001b[0m\u001b[37m\u001b[0m \u001b[1m87s\u001b[0m 4s/step - accuracy: 0.3475 - loss: 1.3495 - val_accuracy: 0.2500 - val_loss: 1.3862\n",
      "Epoch 7/50\n",
      "\u001b[1m21/21\u001b[0m \u001b[32m━━━━━━━━━━━━━━━━━━━━\u001b[0m\u001b[37m\u001b[0m \u001b[1m86s\u001b[0m 4s/step - accuracy: 0.2820 - loss: 1.3414 - val_accuracy: 0.2500 - val_loss: 1.3863\n",
      "Epoch 8/50\n",
      "\u001b[1m21/21\u001b[0m \u001b[32m━━━━━━━━━━━━━━━━━━━━\u001b[0m\u001b[37m\u001b[0m \u001b[1m86s\u001b[0m 4s/step - accuracy: 0.3194 - loss: 1.3370 - val_accuracy: 0.2500 - val_loss: 1.3862\n",
      "Epoch 9/50\n",
      "\u001b[1m21/21\u001b[0m \u001b[32m━━━━━━━━━━━━━━━━━━━━\u001b[0m\u001b[37m\u001b[0m \u001b[1m87s\u001b[0m 4s/step - accuracy: 0.1926 - loss: 1.3782 - val_accuracy: 0.2500 - val_loss: 1.3860\n",
      "Epoch 10/50\n",
      "\u001b[1m21/21\u001b[0m \u001b[32m━━━━━━━━━━━━━━━━━━━━\u001b[0m\u001b[37m\u001b[0m \u001b[1m86s\u001b[0m 4s/step - accuracy: 0.3774 - loss: 1.3682 - val_accuracy: 0.2500 - val_loss: 1.3862\n",
      "Epoch 11/50\n",
      "\u001b[1m21/21\u001b[0m \u001b[32m━━━━━━━━━━━━━━━━━━━━\u001b[0m\u001b[37m\u001b[0m \u001b[1m85s\u001b[0m 4s/step - accuracy: 0.2264 - loss: 1.3495 - val_accuracy: 0.2500 - val_loss: 1.3859\n",
      "Epoch 12/50\n",
      "\u001b[1m21/21\u001b[0m \u001b[32m━━━━━━━━━━━━━━━━━━━━\u001b[0m\u001b[37m\u001b[0m \u001b[1m86s\u001b[0m 4s/step - accuracy: 0.2163 - loss: 1.3757 - val_accuracy: 0.2500 - val_loss: 1.3861\n",
      "Epoch 13/50\n",
      "\u001b[1m21/21\u001b[0m \u001b[32m━━━━━━━━━━━━━━━━━━━━\u001b[0m\u001b[37m\u001b[0m \u001b[1m86s\u001b[0m 4s/step - accuracy: 0.3041 - loss: 1.3767 - val_accuracy: 0.2500 - val_loss: 1.3861\n",
      "Epoch 14/50\n",
      "\u001b[1m21/21\u001b[0m \u001b[32m━━━━━━━━━━━━━━━━━━━━\u001b[0m\u001b[37m\u001b[0m \u001b[1m86s\u001b[0m 4s/step - accuracy: 0.1899 - loss: 1.3845 - val_accuracy: 0.2500 - val_loss: 1.3859\n",
      "Epoch 15/50\n",
      "\u001b[1m21/21\u001b[0m \u001b[32m━━━━━━━━━━━━━━━━━━━━\u001b[0m\u001b[37m\u001b[0m \u001b[1m85s\u001b[0m 4s/step - accuracy: 0.2577 - loss: 1.3765 - val_accuracy: 0.2500 - val_loss: 1.3858\n",
      "Epoch 16/50\n",
      "\u001b[1m21/21\u001b[0m \u001b[32m━━━━━━━━━━━━━━━━━━━━\u001b[0m\u001b[37m\u001b[0m \u001b[1m86s\u001b[0m 4s/step - accuracy: 0.3435 - loss: 1.3767 - val_accuracy: 0.2500 - val_loss: 1.3858\n",
      "Epoch 17/50\n",
      "\u001b[1m21/21\u001b[0m \u001b[32m━━━━━━━━━━━━━━━━━━━━\u001b[0m\u001b[37m\u001b[0m \u001b[1m88s\u001b[0m 4s/step - accuracy: 0.1731 - loss: 1.3781 - val_accuracy: 0.2500 - val_loss: 1.3859\n",
      "Epoch 18/50\n",
      "\u001b[1m21/21\u001b[0m \u001b[32m━━━━━━━━━━━━━━━━━━━━\u001b[0m\u001b[37m\u001b[0m \u001b[1m86s\u001b[0m 4s/step - accuracy: 0.2139 - loss: 1.3583 - val_accuracy: 0.2500 - val_loss: 1.3859\n",
      "Epoch 19/50\n",
      "\u001b[1m21/21\u001b[0m \u001b[32m━━━━━━━━━━━━━━━━━━━━\u001b[0m\u001b[37m\u001b[0m \u001b[1m91s\u001b[0m 4s/step - accuracy: 0.2217 - loss: 1.3784 - val_accuracy: 0.2500 - val_loss: 1.3859\n",
      "Epoch 20/50\n",
      "\u001b[1m21/21\u001b[0m \u001b[32m━━━━━━━━━━━━━━━━━━━━\u001b[0m\u001b[37m\u001b[0m \u001b[1m86s\u001b[0m 4s/step - accuracy: 0.1959 - loss: 1.3774 - val_accuracy: 0.2500 - val_loss: 1.3859\n",
      "Epoch 21/50\n",
      "\u001b[1m21/21\u001b[0m \u001b[32m━━━━━━━━━━━━━━━━━━━━\u001b[0m\u001b[37m\u001b[0m \u001b[1m86s\u001b[0m 4s/step - accuracy: 0.3863 - loss: 1.3836 - val_accuracy: 0.2500 - val_loss: 1.3858\n",
      "Epoch 22/50\n",
      "\u001b[1m21/21\u001b[0m \u001b[32m━━━━━━━━━━━━━━━━━━━━\u001b[0m\u001b[37m\u001b[0m \u001b[1m85s\u001b[0m 4s/step - accuracy: 0.3259 - loss: 1.3847 - val_accuracy: 0.2500 - val_loss: 1.3860\n",
      "Epoch 23/50\n",
      "\u001b[1m21/21\u001b[0m \u001b[32m━━━━━━━━━━━━━━━━━━━━\u001b[0m\u001b[37m\u001b[0m \u001b[1m85s\u001b[0m 4s/step - accuracy: 0.3613 - loss: 1.3762 - val_accuracy: 0.2500 - val_loss: 1.3859\n",
      "Epoch 24/50\n",
      "\u001b[1m21/21\u001b[0m \u001b[32m━━━━━━━━━━━━━━━━━━━━\u001b[0m\u001b[37m\u001b[0m \u001b[1m86s\u001b[0m 4s/step - accuracy: 0.2447 - loss: 1.3648 - val_accuracy: 0.2500 - val_loss: 1.3858\n",
      "Epoch 25/50\n",
      "\u001b[1m21/21\u001b[0m \u001b[32m━━━━━━━━━━━━━━━━━━━━\u001b[0m\u001b[37m\u001b[0m \u001b[1m85s\u001b[0m 4s/step - accuracy: 0.1396 - loss: 1.3846 - val_accuracy: 0.2500 - val_loss: 1.3859\n",
      "Epoch 26/50\n",
      "\u001b[1m21/21\u001b[0m \u001b[32m━━━━━━━━━━━━━━━━━━━━\u001b[0m\u001b[37m\u001b[0m \u001b[1m85s\u001b[0m 4s/step - accuracy: 0.2437 - loss: 1.3835 - val_accuracy: 0.2500 - val_loss: 1.3861\n",
      "Epoch 27/50\n",
      "\u001b[1m21/21\u001b[0m \u001b[32m━━━━━━━━━━━━━━━━━━━━\u001b[0m\u001b[37m\u001b[0m \u001b[1m85s\u001b[0m 4s/step - accuracy: 0.3733 - loss: 1.3721 - val_accuracy: 0.2500 - val_loss: 1.3859\n",
      "Epoch 28/50\n",
      "\u001b[1m21/21\u001b[0m \u001b[32m━━━━━━━━━━━━━━━━━━━━\u001b[0m\u001b[37m\u001b[0m \u001b[1m86s\u001b[0m 4s/step - accuracy: 0.2255 - loss: 1.3881 - val_accuracy: 0.2500 - val_loss: 1.3862\n",
      "Epoch 29/50\n",
      "\u001b[1m21/21\u001b[0m \u001b[32m━━━━━━━━━━━━━━━━━━━━\u001b[0m\u001b[37m\u001b[0m \u001b[1m86s\u001b[0m 4s/step - accuracy: 0.2848 - loss: 1.3786 - val_accuracy: 0.2500 - val_loss: 1.3860\n",
      "Epoch 30/50\n",
      "\u001b[1m21/21\u001b[0m \u001b[32m━━━━━━━━━━━━━━━━━━━━\u001b[0m\u001b[37m\u001b[0m \u001b[1m85s\u001b[0m 4s/step - accuracy: 0.0700 - loss: 1.3782 - val_accuracy: 0.2500 - val_loss: 1.3857\n",
      "Epoch 31/50\n",
      "\u001b[1m21/21\u001b[0m \u001b[32m━━━━━━━━━━━━━━━━━━━━\u001b[0m\u001b[37m\u001b[0m \u001b[1m86s\u001b[0m 4s/step - accuracy: 0.2459 - loss: 1.3783 - val_accuracy: 0.2500 - val_loss: 1.3859\n",
      "Epoch 32/50\n",
      "\u001b[1m21/21\u001b[0m \u001b[32m━━━━━━━━━━━━━━━━━━━━\u001b[0m\u001b[37m\u001b[0m \u001b[1m85s\u001b[0m 4s/step - accuracy: 0.2733 - loss: 1.3849 - val_accuracy: 0.2500 - val_loss: 1.3859\n",
      "Epoch 33/50\n",
      "\u001b[1m21/21\u001b[0m \u001b[32m━━━━━━━━━━━━━━━━━━━━\u001b[0m\u001b[37m\u001b[0m \u001b[1m85s\u001b[0m 4s/step - accuracy: 0.3527 - loss: 1.3818 - val_accuracy: 0.2500 - val_loss: 1.3860\n",
      "Epoch 34/50\n",
      "\u001b[1m21/21\u001b[0m \u001b[32m━━━━━━━━━━━━━━━━━━━━\u001b[0m\u001b[37m\u001b[0m \u001b[1m86s\u001b[0m 4s/step - accuracy: 0.1818 - loss: 1.3793 - val_accuracy: 0.2500 - val_loss: 1.3858\n",
      "Epoch 35/50\n",
      "\u001b[1m21/21\u001b[0m \u001b[32m━━━━━━━━━━━━━━━━━━━━\u001b[0m\u001b[37m\u001b[0m \u001b[1m86s\u001b[0m 4s/step - accuracy: 0.2987 - loss: 1.3810 - val_accuracy: 0.2500 - val_loss: 1.3859\n",
      "Epoch 36/50\n",
      "\u001b[1m21/21\u001b[0m \u001b[32m━━━━━━━━━━━━━━━━━━━━\u001b[0m\u001b[37m\u001b[0m \u001b[1m85s\u001b[0m 4s/step - accuracy: 0.3611 - loss: 1.3774 - val_accuracy: 0.2500 - val_loss: 1.3859\n",
      "Epoch 37/50\n",
      "\u001b[1m21/21\u001b[0m \u001b[32m━━━━━━━━━━━━━━━━━━━━\u001b[0m\u001b[37m\u001b[0m \u001b[1m85s\u001b[0m 4s/step - accuracy: 0.2246 - loss: 1.3845 - val_accuracy: 0.2500 - val_loss: 1.3859\n",
      "Epoch 38/50\n",
      "\u001b[1m21/21\u001b[0m \u001b[32m━━━━━━━━━━━━━━━━━━━━\u001b[0m\u001b[37m\u001b[0m \u001b[1m86s\u001b[0m 4s/step - accuracy: 0.2216 - loss: 1.3722 - val_accuracy: 0.2500 - val_loss: 1.3859\n",
      "Epoch 39/50\n",
      "\u001b[1m21/21\u001b[0m \u001b[32m━━━━━━━━━━━━━━━━━━━━\u001b[0m\u001b[37m\u001b[0m \u001b[1m85s\u001b[0m 4s/step - accuracy: 0.1594 - loss: 1.3828 - val_accuracy: 0.2500 - val_loss: 1.3859\n",
      "Epoch 40/50\n",
      "\u001b[1m21/21\u001b[0m \u001b[32m━━━━━━━━━━━━━━━━━━━━\u001b[0m\u001b[37m\u001b[0m \u001b[1m87s\u001b[0m 4s/step - accuracy: 0.2833 - loss: 1.3809 - val_accuracy: 0.2500 - val_loss: 1.3860\n",
      "Epoch 41/50\n",
      "\u001b[1m21/21\u001b[0m \u001b[32m━━━━━━━━━━━━━━━━━━━━\u001b[0m\u001b[37m\u001b[0m \u001b[1m88s\u001b[0m 4s/step - accuracy: 0.1970 - loss: 1.3792 - val_accuracy: 0.2500 - val_loss: 1.3860\n",
      "Epoch 42/50\n",
      "\u001b[1m21/21\u001b[0m \u001b[32m━━━━━━━━━━━━━━━━━━━━\u001b[0m\u001b[37m\u001b[0m \u001b[1m86s\u001b[0m 4s/step - accuracy: 0.3048 - loss: 1.3699 - val_accuracy: 0.2500 - val_loss: 1.3859\n",
      "Epoch 43/50\n",
      "\u001b[1m21/21\u001b[0m \u001b[32m━━━━━━━━━━━━━━━━━━━━\u001b[0m\u001b[37m\u001b[0m \u001b[1m87s\u001b[0m 4s/step - accuracy: 0.3961 - loss: 1.3775 - val_accuracy: 0.2500 - val_loss: 1.3859\n",
      "Epoch 44/50\n",
      "\u001b[1m21/21\u001b[0m \u001b[32m━━━━━━━━━━━━━━━━━━━━\u001b[0m\u001b[37m\u001b[0m \u001b[1m85s\u001b[0m 4s/step - accuracy: 0.2228 - loss: 1.3856 - val_accuracy: 0.2500 - val_loss: 1.3858\n",
      "Epoch 45/50\n",
      "\u001b[1m21/21\u001b[0m \u001b[32m━━━━━━━━━━━━━━━━━━━━\u001b[0m\u001b[37m\u001b[0m \u001b[1m105s\u001b[0m 5s/step - accuracy: 0.2472 - loss: 1.3837 - val_accuracy: 0.2500 - val_loss: 1.3861\n",
      "Epoch 46/50\n",
      "\u001b[1m21/21\u001b[0m \u001b[32m━━━━━━━━━━━━━━━━━━━━\u001b[0m\u001b[37m\u001b[0m \u001b[1m117s\u001b[0m 5s/step - accuracy: 0.2302 - loss: 1.3761 - val_accuracy: 0.2500 - val_loss: 1.3858\n",
      "Epoch 47/50\n",
      "\u001b[1m21/21\u001b[0m \u001b[32m━━━━━━━━━━━━━━━━━━━━\u001b[0m\u001b[37m\u001b[0m \u001b[1m105s\u001b[0m 5s/step - accuracy: 0.1226 - loss: 1.3729 - val_accuracy: 0.2500 - val_loss: 1.3857\n",
      "Epoch 48/50\n",
      "\u001b[1m21/21\u001b[0m \u001b[32m━━━━━━━━━━━━━━━━━━━━\u001b[0m\u001b[37m\u001b[0m \u001b[1m97s\u001b[0m 5s/step - accuracy: 0.0412 - loss: 1.3700 - val_accuracy: 0.2500 - val_loss: 1.3856\n",
      "Epoch 49/50\n",
      "\u001b[1m21/21\u001b[0m \u001b[32m━━━━━━━━━━━━━━━━━━━━\u001b[0m\u001b[37m\u001b[0m \u001b[1m101s\u001b[0m 5s/step - accuracy: 0.2109 - loss: 1.3809 - val_accuracy: 0.2500 - val_loss: 1.3859\n",
      "Epoch 50/50\n",
      "\u001b[1m21/21\u001b[0m \u001b[32m━━━━━━━━━━━━━━━━━━━━\u001b[0m\u001b[37m\u001b[0m \u001b[1m96s\u001b[0m 5s/step - accuracy: 0.0129 - loss: 1.3865 - val_accuracy: 0.2500 - val_loss: 1.3859\n"
     ]
    }
   ],
   "source": [
    "early_stopping = EarlyStopping(monitor='val_loss', patience=6, verbose=1, restore_best_weights=True)\n",
    "#history_densenet = model_densenet.fit(train_generator, epochs=100, validation_data=val_generator, callbacks=[early_stopping])\n",
    "history_densenet = model_densenet.fit(train_generator, epochs=50, validation_data=val_generator)"
   ]
  },
  {
   "cell_type": "code",
   "execution_count": 24,
   "id": "1cb333d9",
   "metadata": {},
   "outputs": [
    {
     "data": {
      "image/png": "[encoded data removed]",
      "text/plain": [
       "<Figure size 432x288 with 1 Axes>"
      ]
     },
     "metadata": {
      "needs_background": "light"
     },
     "output_type": "display_data"
    },
    {
     "data": {
      "image/png": "[encoded data removed]",
      "text/plain": [
       "<Figure size 432x288 with 1 Axes>"
      ]
     },
     "metadata": {
      "needs_background": "light"
     },
     "output_type": "display_data"
    }
   ],
   "source": [
    "#Analise da precisao do treinamento e validacao\n",
    "plt.plot(history_densenet.history['accuracy'], label='Training Accuracy')\n",
    "plt.plot(history_densenet.history['val_accuracy'], label='Validation Accuracy')\n",
    "plt.title('Training and Validation Accuracy')\n",
    "plt.xlabel('Epoch')\n",
    "plt.ylabel('Accuracy')\n",
    "plt.legend()\n",
    "plt.show()\n",
    "\n",
    "#Analise da loss do treinamento e validacao\n",
    "plt.plot(history_densenet.history['loss'], label='Training Loss')\n",
    "plt.plot(history_densenet.history['val_loss'], label='Validation Loss')\n",
    "plt.title('Training and Validation Loss')\n",
    "plt.xlabel('Epoch')\n",
    "plt.ylabel('Loss')\n",
    "plt.legend()\n",
    "plt.show()"
   ]
  },
  {
   "cell_type": "code",
   "execution_count": 25,
   "id": "1c22ea10",
   "metadata": {},
   "outputs": [
    {
     "name": "stdout",
     "output_type": "stream",
     "text": [
      "\u001b[1m5/5\u001b[0m \u001b[32m━━━━━━━━━━━━━━━━━━━━\u001b[0m\u001b[37m\u001b[0m \u001b[1m17s\u001b[0m 3s/step - accuracy: 0.2845 - loss: 1.3852\n",
      "Test Accuracy: 27.03%\n",
      "Test Loss: 1.3858\n"
     ]
    }
   ],
   "source": [
    "test_loss, test_accuracy = model_densenet.evaluate(test_generator)\n",
    "\n",
    "print(f'Test Accuracy: {test_accuracy * 100:.2f}%')\n",
    "print(f'Test Loss: {test_loss:.4f}')"
   ]
  },
  {
   "cell_type": "code",
   "execution_count": 26,
   "id": "631cceb0",
   "metadata": {},
   "outputs": [
    {
     "name": "stdout",
     "output_type": "stream",
     "text": [
      "\u001b[1m5/5\u001b[0m \u001b[32m━━━━━━━━━━━━━━━━━━━━\u001b[0m\u001b[37m\u001b[0m \u001b[1m26s\u001b[0m 4s/step\n"
     ]
    },
    {
     "data": {
      "text/plain": [
       "array([1, 1, 1, 1, 1, 1, 1, 1, 1, 1, 1, 1, 1, 1, 1, 1, 1, 1, 1, 1, 1, 1,\n",
       "       1, 1, 1, 1, 1, 1, 1, 1, 1, 1, 1, 1, 1, 1, 1], dtype=int64)"
      ]
     },
     "execution_count": 26,
     "metadata": {},
     "output_type": "execute_result"
    }
   ],
   "source": [
    "predictions = model_densenet.predict(test_generator)\n",
    "\n",
    "#Pega os indices dos labels que foram 'predicted'\n",
    "predicted_labels = np.argmax(predictions, axis=1)\n",
    "predicted_labels"
   ]
  },
  {
   "cell_type": "code",
   "execution_count": 27,
   "id": "e0929e0b",
   "metadata": {},
   "outputs": [
    {
     "data": {
      "text/plain": [
       "array([0, 0, 0, 0, 0, 0, 0, 0, 0, 1, 1, 1, 1, 1, 1, 1, 1, 1, 1, 2, 2, 2,\n",
       "       2, 2, 2, 2, 2, 2, 3, 3, 3, 3, 3, 3, 3, 3, 3])"
      ]
     },
     "execution_count": 27,
     "metadata": {},
     "output_type": "execute_result"
    }
   ],
   "source": [
    "#Pega os indices corretos\n",
    "true_labels = test_generator.labels\n",
    "true_labels"
   ]
  },
  {
   "cell_type": "code",
   "execution_count": 28,
   "id": "d432d872",
   "metadata": {},
   "outputs": [
    {
     "data": {
      "text/plain": [
       "array([ 0,  1,  2,  3,  4,  5,  6,  7,  8, 19, 20, 21, 22, 23, 24, 25, 26,\n",
       "       27, 28, 29, 30, 31, 32, 33, 34, 35, 36], dtype=int64)"
      ]
     },
     "execution_count": 28,
     "metadata": {},
     "output_type": "execute_result"
    }
   ],
   "source": [
    "#Pega os indices que foram classificados errados (i.e. vai pegar o indice dos dois arrays que estao diferentes EM VALOR)\n",
    "misclassified_indices = np.where(predicted_labels != true_labels)[0]\n",
    "misclassified_indices"
   ]
  },
  {
   "cell_type": "code",
   "execution_count": 29,
   "id": "e1152ba8",
   "metadata": {},
   "outputs": [
    {
     "data": {
      "image/png": "[encoded data removed]",
      "text/plain": [
       "<Figure size 432x432 with 2 Axes>"
      ]
     },
     "metadata": {
      "needs_background": "light"
     },
     "output_type": "display_data"
    }
   ],
   "source": [
    "confusion = confusion_matrix(true_labels, predicted_labels)\n",
    "\n",
    "\n",
    "plt.figure(figsize=(6, 6))\n",
    "sns.heatmap(confusion, annot=True, fmt='d', cmap='Reds', xticklabels=range(4), yticklabels=range(4))\n",
    "plt.xlabel('Valor previsto')\n",
    "plt.ylabel('Valor real')\n",
    "plt.title('Matriz de confusao')\n",
    "plt.show()"
   ]
  },
  {
   "cell_type": "markdown",
   "id": "0dfc1a6b",
   "metadata": {},
   "source": [
    "Podemos ver que em nenhum momento a rede foi capaz de aprender apropriadamente as classes das imagens."
   ]
  },
  {
   "cell_type": "markdown",
   "id": "0ab620cb",
   "metadata": {},
   "source": [
    "## 3 - Transfer learning com VGG16"
   ]
  },
  {
   "cell_type": "code",
   "execution_count": 32,
   "id": "6aeab404",
   "metadata": {},
   "outputs": [],
   "source": [
    "vgg_model = VGG16(weights='imagenet', include_top=False, input_shape=(1890//4, 2457//4, 3))\n",
    "\n",
    "#Congelar os layers do modelo\n",
    "for layer in vgg_model.layers:\n",
    "    layer.trainable = False\n",
    "    \n",
    "#Adição dos layers finais\n",
    "x = Flatten()(vgg_model.output)\n",
    "x = Dense(256, activation='relu')(x)\n",
    "predictions = Dense(4, activation='softmax')(x)\n",
    "\n",
    "model_vgg16 = Model(inputs=vgg_model.input, outputs=predictions)\n",
    "\n",
    "model_vgg16.compile(optimizer='adam',\n",
    "              loss='categorical_crossentropy',\n",
    "              metrics=['accuracy'])"
   ]
  },
  {
   "cell_type": "code",
   "execution_count": 33,
   "id": "93f627d1",
   "metadata": {},
   "outputs": [
    {
     "name": "stdout",
     "output_type": "stream",
     "text": [
      "Epoch 1/50\n",
      "\u001b[1m21/21\u001b[0m \u001b[32m━━━━━━━━━━━━━━━━━━━━\u001b[0m\u001b[37m\u001b[0m \u001b[1m222s\u001b[0m 10s/step - accuracy: 0.2202 - loss: 26.4551 - val_accuracy: 0.2222 - val_loss: 2.8499\n",
      "Epoch 2/50\n",
      "\u001b[1m21/21\u001b[0m \u001b[32m━━━━━━━━━━━━━━━━━━━━\u001b[0m\u001b[37m\u001b[0m \u001b[1m219s\u001b[0m 10s/step - accuracy: 0.3257 - loss: 2.9263 - val_accuracy: 0.3889 - val_loss: 2.2482\n",
      "Epoch 3/50\n",
      "\u001b[1m21/21\u001b[0m \u001b[32m━━━━━━━━━━━━━━━━━━━━\u001b[0m\u001b[37m\u001b[0m \u001b[1m220s\u001b[0m 10s/step - accuracy: 0.4437 - loss: 2.5155 - val_accuracy: 0.2500 - val_loss: 2.3581\n",
      "Epoch 4/50\n",
      "\u001b[1m21/21\u001b[0m \u001b[32m━━━━━━━━━━━━━━━━━━━━\u001b[0m\u001b[37m\u001b[0m \u001b[1m236s\u001b[0m 11s/step - accuracy: 0.4615 - loss: 2.2105 - val_accuracy: 0.2500 - val_loss: 3.0699\n",
      "Epoch 5/50\n",
      "\u001b[1m21/21\u001b[0m \u001b[32m━━━━━━━━━━━━━━━━━━━━\u001b[0m\u001b[37m\u001b[0m \u001b[1m237s\u001b[0m 11s/step - accuracy: 0.3363 - loss: 2.3778 - val_accuracy: 0.2222 - val_loss: 2.8685\n",
      "Epoch 6/50\n",
      "\u001b[1m21/21\u001b[0m \u001b[32m━━━━━━━━━━━━━━━━━━━━\u001b[0m\u001b[37m\u001b[0m \u001b[1m247s\u001b[0m 12s/step - accuracy: 0.5867 - loss: 1.3486 - val_accuracy: 0.3611 - val_loss: 1.6568\n",
      "Epoch 7/50\n",
      "\u001b[1m21/21\u001b[0m \u001b[32m━━━━━━━━━━━━━━━━━━━━\u001b[0m\u001b[37m\u001b[0m \u001b[1m235s\u001b[0m 11s/step - accuracy: 0.9173 - loss: 0.4093 - val_accuracy: 0.3889 - val_loss: 1.6409\n",
      "Epoch 8/50\n",
      "\u001b[1m21/21\u001b[0m \u001b[32m━━━━━━━━━━━━━━━━━━━━\u001b[0m\u001b[37m\u001b[0m \u001b[1m277s\u001b[0m 13s/step - accuracy: 0.8670 - loss: 0.3541 - val_accuracy: 0.3889 - val_loss: 1.6344\n",
      "Epoch 9/50\n",
      "\u001b[1m21/21\u001b[0m \u001b[32m━━━━━━━━━━━━━━━━━━━━\u001b[0m\u001b[37m\u001b[0m \u001b[1m254s\u001b[0m 12s/step - accuracy: 0.7974 - loss: 0.6798 - val_accuracy: 0.3056 - val_loss: 1.5361\n",
      "Epoch 10/50\n",
      "\u001b[1m21/21\u001b[0m \u001b[32m━━━━━━━━━━━━━━━━━━━━\u001b[0m\u001b[37m\u001b[0m \u001b[1m235s\u001b[0m 11s/step - accuracy: 0.9752 - loss: 0.2995 - val_accuracy: 0.3889 - val_loss: 1.5774\n",
      "Epoch 11/50\n",
      "\u001b[1m21/21\u001b[0m \u001b[32m━━━━━━━━━━━━━━━━━━━━\u001b[0m\u001b[37m\u001b[0m \u001b[1m266s\u001b[0m 13s/step - accuracy: 0.9386 - loss: 0.2638 - val_accuracy: 0.2778 - val_loss: 1.7350\n",
      "Epoch 12/50\n",
      "\u001b[1m21/21\u001b[0m \u001b[32m━━━━━━━━━━━━━━━━━━━━\u001b[0m\u001b[37m\u001b[0m \u001b[1m319s\u001b[0m 15s/step - accuracy: 0.9176 - loss: 0.3625 - val_accuracy: 0.3333 - val_loss: 1.9385\n",
      "Epoch 13/50\n",
      "\u001b[1m21/21\u001b[0m \u001b[32m━━━━━━━━━━━━━━━━━━━━\u001b[0m\u001b[37m\u001b[0m \u001b[1m248s\u001b[0m 12s/step - accuracy: 0.9088 - loss: 0.3107 - val_accuracy: 0.3333 - val_loss: 1.5215\n",
      "Epoch 14/50\n",
      "\u001b[1m21/21\u001b[0m \u001b[32m━━━━━━━━━━━━━━━━━━━━\u001b[0m\u001b[37m\u001b[0m \u001b[1m253s\u001b[0m 12s/step - accuracy: 0.9798 - loss: 0.1974 - val_accuracy: 0.2778 - val_loss: 1.5209\n",
      "Epoch 15/50\n",
      "\u001b[1m21/21\u001b[0m \u001b[32m━━━━━━━━━━━━━━━━━━━━\u001b[0m\u001b[37m\u001b[0m \u001b[1m276s\u001b[0m 13s/step - accuracy: 0.9945 - loss: 0.1838 - val_accuracy: 0.4167 - val_loss: 1.6963\n",
      "Epoch 16/50\n",
      "\u001b[1m21/21\u001b[0m \u001b[32m━━━━━━━━━━━━━━━━━━━━\u001b[0m\u001b[37m\u001b[0m \u001b[1m240s\u001b[0m 11s/step - accuracy: 0.9605 - loss: 0.1825 - val_accuracy: 0.3333 - val_loss: 1.5127\n",
      "Epoch 17/50\n",
      "\u001b[1m21/21\u001b[0m \u001b[32m━━━━━━━━━━━━━━━━━━━━\u001b[0m\u001b[37m\u001b[0m \u001b[1m244s\u001b[0m 12s/step - accuracy: 0.9899 - loss: 0.1073 - val_accuracy: 0.3056 - val_loss: 2.4046\n",
      "Epoch 18/50\n",
      "\u001b[1m21/21\u001b[0m \u001b[32m━━━━━━━━━━━━━━━━━━━━\u001b[0m\u001b[37m\u001b[0m \u001b[1m236s\u001b[0m 11s/step - accuracy: 0.8844 - loss: 0.3012 - val_accuracy: 0.3333 - val_loss: 2.3674\n",
      "Epoch 19/50\n",
      "\u001b[1m21/21\u001b[0m \u001b[32m━━━━━━━━━━━━━━━━━━━━\u001b[0m\u001b[37m\u001b[0m \u001b[1m228s\u001b[0m 11s/step - accuracy: 0.9330 - loss: 0.2335 - val_accuracy: 0.4167 - val_loss: 1.8297\n",
      "Epoch 20/50\n",
      "\u001b[1m21/21\u001b[0m \u001b[32m━━━━━━━━━━━━━━━━━━━━\u001b[0m\u001b[37m\u001b[0m \u001b[1m243s\u001b[0m 12s/step - accuracy: 0.9982 - loss: 0.1430 - val_accuracy: 0.3611 - val_loss: 1.7273\n",
      "Epoch 21/50\n",
      "\u001b[1m21/21\u001b[0m \u001b[32m━━━━━━━━━━━━━━━━━━━━\u001b[0m\u001b[37m\u001b[0m \u001b[1m248s\u001b[0m 12s/step - accuracy: 1.0000 - loss: 0.0929 - val_accuracy: 0.3611 - val_loss: 1.6383\n",
      "Epoch 22/50\n",
      "\u001b[1m21/21\u001b[0m \u001b[32m━━━━━━━━━━━━━━━━━━━━\u001b[0m\u001b[37m\u001b[0m \u001b[1m205s\u001b[0m 10s/step - accuracy: 0.9870 - loss: 0.1141 - val_accuracy: 0.3333 - val_loss: 1.6808\n",
      "Epoch 23/50\n",
      "\u001b[1m21/21\u001b[0m \u001b[32m━━━━━━━━━━━━━━━━━━━━\u001b[0m\u001b[37m\u001b[0m \u001b[1m210s\u001b[0m 10s/step - accuracy: 1.0000 - loss: 0.0810 - val_accuracy: 0.3611 - val_loss: 1.7021\n",
      "Epoch 24/50\n",
      "\u001b[1m21/21\u001b[0m \u001b[32m━━━━━━━━━━━━━━━━━━━━\u001b[0m\u001b[37m\u001b[0m \u001b[1m215s\u001b[0m 10s/step - accuracy: 1.0000 - loss: 0.0486 - val_accuracy: 0.3333 - val_loss: 1.6822\n",
      "Epoch 25/50\n",
      "\u001b[1m21/21\u001b[0m \u001b[32m━━━━━━━━━━━━━━━━━━━━\u001b[0m\u001b[37m\u001b[0m \u001b[1m227s\u001b[0m 11s/step - accuracy: 1.0000 - loss: 0.0643 - val_accuracy: 0.4444 - val_loss: 1.6608\n",
      "Epoch 26/50\n",
      "\u001b[1m21/21\u001b[0m \u001b[32m━━━━━━━━━━━━━━━━━━━━\u001b[0m\u001b[37m\u001b[0m \u001b[1m216s\u001b[0m 10s/step - accuracy: 1.0000 - loss: 0.0463 - val_accuracy: 0.4167 - val_loss: 1.7377\n",
      "Epoch 27/50\n",
      "\u001b[1m21/21\u001b[0m \u001b[32m━━━━━━━━━━━━━━━━━━━━\u001b[0m\u001b[37m\u001b[0m \u001b[1m216s\u001b[0m 10s/step - accuracy: 1.0000 - loss: 0.0472 - val_accuracy: 0.3889 - val_loss: 1.6012\n",
      "Epoch 28/50\n",
      "\u001b[1m21/21\u001b[0m \u001b[32m━━━━━━━━━━━━━━━━━━━━\u001b[0m\u001b[37m\u001b[0m \u001b[1m198s\u001b[0m 9s/step - accuracy: 1.0000 - loss: 0.0385 - val_accuracy: 0.3611 - val_loss: 1.7773\n",
      "Epoch 29/50\n",
      "\u001b[1m21/21\u001b[0m \u001b[32m━━━━━━━━━━━━━━━━━━━━\u001b[0m\u001b[37m\u001b[0m \u001b[1m203s\u001b[0m 10s/step - accuracy: 1.0000 - loss: 0.0690 - val_accuracy: 0.3611 - val_loss: 1.7196\n",
      "Epoch 30/50\n",
      "\u001b[1m21/21\u001b[0m \u001b[32m━━━━━━━━━━━━━━━━━━━━\u001b[0m\u001b[37m\u001b[0m \u001b[1m200s\u001b[0m 10s/step - accuracy: 1.0000 - loss: 0.0342 - val_accuracy: 0.3611 - val_loss: 1.7337\n",
      "Epoch 31/50\n",
      "\u001b[1m21/21\u001b[0m \u001b[32m━━━━━━━━━━━━━━━━━━━━\u001b[0m\u001b[37m\u001b[0m \u001b[1m201s\u001b[0m 10s/step - accuracy: 1.0000 - loss: 0.0409 - val_accuracy: 0.4167 - val_loss: 1.7481\n",
      "Epoch 32/50\n",
      "\u001b[1m21/21\u001b[0m \u001b[32m━━━━━━━━━━━━━━━━━━━━\u001b[0m\u001b[37m\u001b[0m \u001b[1m205s\u001b[0m 10s/step - accuracy: 1.0000 - loss: 0.0306 - val_accuracy: 0.3889 - val_loss: 1.6734\n",
      "Epoch 33/50\n",
      "\u001b[1m21/21\u001b[0m \u001b[32m━━━━━━━━━━━━━━━━━━━━\u001b[0m\u001b[37m\u001b[0m \u001b[1m204s\u001b[0m 10s/step - accuracy: 1.0000 - loss: 0.0257 - val_accuracy: 0.3611 - val_loss: 1.7686\n",
      "Epoch 34/50\n",
      "\u001b[1m21/21\u001b[0m \u001b[32m━━━━━━━━━━━━━━━━━━━━\u001b[0m\u001b[37m\u001b[0m \u001b[1m194s\u001b[0m 9s/step - accuracy: 1.0000 - loss: 0.0324 - val_accuracy: 0.3889 - val_loss: 1.7288\n",
      "Epoch 35/50\n",
      "\u001b[1m21/21\u001b[0m \u001b[32m━━━━━━━━━━━━━━━━━━━━\u001b[0m\u001b[37m\u001b[0m \u001b[1m209s\u001b[0m 10s/step - accuracy: 1.0000 - loss: 0.0243 - val_accuracy: 0.3889 - val_loss: 1.7258\n",
      "Epoch 36/50\n",
      "\u001b[1m21/21\u001b[0m \u001b[32m━━━━━━━━━━━━━━━━━━━━\u001b[0m\u001b[37m\u001b[0m \u001b[1m215s\u001b[0m 10s/step - accuracy: 1.0000 - loss: 0.0240 - val_accuracy: 0.4167 - val_loss: 1.7041\n",
      "Epoch 37/50\n",
      "\u001b[1m21/21\u001b[0m \u001b[32m━━━━━━━━━━━━━━━━━━━━\u001b[0m\u001b[37m\u001b[0m \u001b[1m204s\u001b[0m 10s/step - accuracy: 1.0000 - loss: 0.0270 - val_accuracy: 0.3611 - val_loss: 1.9087\n",
      "Epoch 38/50\n",
      "\u001b[1m21/21\u001b[0m \u001b[32m━━━━━━━━━━━━━━━━━━━━\u001b[0m\u001b[37m\u001b[0m \u001b[1m203s\u001b[0m 10s/step - accuracy: 1.0000 - loss: 0.0249 - val_accuracy: 0.3889 - val_loss: 1.7243\n",
      "Epoch 39/50\n",
      "\u001b[1m21/21\u001b[0m \u001b[32m━━━━━━━━━━━━━━━━━━━━\u001b[0m\u001b[37m\u001b[0m \u001b[1m230s\u001b[0m 11s/step - accuracy: 1.0000 - loss: 0.0178 - val_accuracy: 0.4167 - val_loss: 1.7109\n",
      "Epoch 40/50\n",
      "\u001b[1m21/21\u001b[0m \u001b[32m━━━━━━━━━━━━━━━━━━━━\u001b[0m\u001b[37m\u001b[0m \u001b[1m232s\u001b[0m 11s/step - accuracy: 1.0000 - loss: 0.0171 - val_accuracy: 0.3889 - val_loss: 1.7331\n",
      "Epoch 41/50\n",
      "\u001b[1m21/21\u001b[0m \u001b[32m━━━━━━━━━━━━━━━━━━━━\u001b[0m\u001b[37m\u001b[0m \u001b[1m215s\u001b[0m 10s/step - accuracy: 1.0000 - loss: 0.0157 - val_accuracy: 0.3889 - val_loss: 1.7301\n",
      "Epoch 42/50\n",
      "\u001b[1m21/21\u001b[0m \u001b[32m━━━━━━━━━━━━━━━━━━━━\u001b[0m\u001b[37m\u001b[0m \u001b[1m238s\u001b[0m 11s/step - accuracy: 1.0000 - loss: 0.0189 - val_accuracy: 0.3889 - val_loss: 1.7568\n",
      "Epoch 43/50\n",
      "\u001b[1m21/21\u001b[0m \u001b[32m━━━━━━━━━━━━━━━━━━━━\u001b[0m\u001b[37m\u001b[0m \u001b[1m244s\u001b[0m 11s/step - accuracy: 1.0000 - loss: 0.0146 - val_accuracy: 0.4167 - val_loss: 1.7796\n",
      "Epoch 44/50\n",
      "\u001b[1m21/21\u001b[0m \u001b[32m━━━━━━━━━━━━━━━━━━━━\u001b[0m\u001b[37m\u001b[0m \u001b[1m213s\u001b[0m 10s/step - accuracy: 1.0000 - loss: 0.0149 - val_accuracy: 0.3889 - val_loss: 1.7562\n",
      "Epoch 45/50\n",
      "\u001b[1m21/21\u001b[0m \u001b[32m━━━━━━━━━━━━━━━━━━━━\u001b[0m\u001b[37m\u001b[0m \u001b[1m221s\u001b[0m 11s/step - accuracy: 1.0000 - loss: 0.0148 - val_accuracy: 0.4167 - val_loss: 1.7734\n",
      "Epoch 46/50\n",
      "\u001b[1m21/21\u001b[0m \u001b[32m━━━━━━━━━━━━━━━━━━━━\u001b[0m\u001b[37m\u001b[0m \u001b[1m232s\u001b[0m 11s/step - accuracy: 1.0000 - loss: 0.0139 - val_accuracy: 0.3889 - val_loss: 1.7901\n",
      "Epoch 47/50\n",
      "\u001b[1m21/21\u001b[0m \u001b[32m━━━━━━━━━━━━━━━━━━━━\u001b[0m\u001b[37m\u001b[0m \u001b[1m211s\u001b[0m 10s/step - accuracy: 1.0000 - loss: 0.0134 - val_accuracy: 0.4167 - val_loss: 1.8672\n",
      "Epoch 48/50\n",
      "\u001b[1m21/21\u001b[0m \u001b[32m━━━━━━━━━━━━━━━━━━━━\u001b[0m\u001b[37m\u001b[0m \u001b[1m201s\u001b[0m 10s/step - accuracy: 1.0000 - loss: 0.0127 - val_accuracy: 0.3889 - val_loss: 1.7674\n",
      "Epoch 49/50\n",
      "\u001b[1m21/21\u001b[0m \u001b[32m━━━━━━━━━━━━━━━━━━━━\u001b[0m\u001b[37m\u001b[0m \u001b[1m196s\u001b[0m 9s/step - accuracy: 1.0000 - loss: 0.0135 - val_accuracy: 0.3889 - val_loss: 1.8275\n",
      "Epoch 50/50\n",
      "\u001b[1m21/21\u001b[0m \u001b[32m━━━━━━━━━━━━━━━━━━━━\u001b[0m\u001b[37m\u001b[0m \u001b[1m197s\u001b[0m 9s/step - accuracy: 1.0000 - loss: 0.0112 - val_accuracy: 0.3889 - val_loss: 1.7787\n"
     ]
    }
   ],
   "source": [
    "history_vgg16 = model_vgg16.fit(train_generator,\n",
    "                epochs=50,\n",
    "                validation_data=val_generator)"
   ]
  },
  {
   "cell_type": "code",
   "execution_count": 34,
   "id": "1fdb65b8",
   "metadata": {},
   "outputs": [
    {
     "data": {
      "image/png": "[encoded data removed]",
      "text/plain": [
       "<Figure size 432x288 with 1 Axes>"
      ]
     },
     "metadata": {
      "needs_background": "light"
     },
     "output_type": "display_data"
    },
    {
     "data": {
      "image/png": "[encoded data removed]",
      "text/plain": [
       "<Figure size 432x288 with 1 Axes>"
      ]
     },
     "metadata": {
      "needs_background": "light"
     },
     "output_type": "display_data"
    }
   ],
   "source": [
    "#Analise da precisao do treinamento e validacao\n",
    "plt.plot(history_vgg16.history['accuracy'], label='Training Accuracy')\n",
    "plt.plot(history_vgg16.history['val_accuracy'], label='Validation Accuracy')\n",
    "plt.title('Training and Validation Accuracy')\n",
    "plt.xlabel('Epoch')\n",
    "plt.ylabel('Accuracy')\n",
    "plt.legend()\n",
    "plt.show()\n",
    "\n",
    "#Analise da loss do treinamento e validacao\n",
    "plt.plot(history_vgg16.history['loss'], label='Training Loss')\n",
    "plt.plot(history_vgg16.history['val_loss'], label='Validation Loss')\n",
    "plt.title('Training and Validation Loss')\n",
    "plt.xlabel('Epoch')\n",
    "plt.ylabel('Loss')\n",
    "plt.legend()\n",
    "plt.show()"
   ]
  },
  {
   "cell_type": "code",
   "execution_count": 35,
   "id": "f055d67a",
   "metadata": {},
   "outputs": [
    {
     "name": "stdout",
     "output_type": "stream",
     "text": [
      "\u001b[1m5/5\u001b[0m \u001b[32m━━━━━━━━━━━━━━━━━━━━\u001b[0m\u001b[37m\u001b[0m \u001b[1m36s\u001b[0m 8s/step - accuracy: 0.2585 - loss: 2.1677\n",
      "Test Accuracy: 27.03%\n",
      "Test Loss: 2.0363\n"
     ]
    }
   ],
   "source": [
    "test_loss, test_accuracy = model_vgg16.evaluate(test_generator)\n",
    "\n",
    "print(f'Test Accuracy: {test_accuracy * 100:.2f}%')\n",
    "print(f'Test Loss: {test_loss:.4f}')"
   ]
  },
  {
   "cell_type": "code",
   "execution_count": 36,
   "id": "b26be586",
   "metadata": {},
   "outputs": [
    {
     "name": "stdout",
     "output_type": "stream",
     "text": [
      "\u001b[1m5/5\u001b[0m \u001b[32m━━━━━━━━━━━━━━━━━━━━\u001b[0m\u001b[37m\u001b[0m \u001b[1m38s\u001b[0m 7s/step\n"
     ]
    },
    {
     "data": {
      "text/plain": [
       "array([3, 0, 3, 0, 3, 0, 3, 1, 3, 2, 1, 3, 0, 2, 2, 3, 3, 2, 0, 3, 1, 1,\n",
       "       0, 3, 1, 1, 0, 2, 3, 2, 1, 3, 1, 2, 3, 3, 3], dtype=int64)"
      ]
     },
     "execution_count": 36,
     "metadata": {},
     "output_type": "execute_result"
    }
   ],
   "source": [
    "predictions = model_vgg16.predict(test_generator)\n",
    "\n",
    "#Pega os indices dos labels que foram 'predicted'\n",
    "predicted_labels = np.argmax(predictions, axis=1)\n",
    "predicted_labels"
   ]
  },
  {
   "cell_type": "code",
   "execution_count": 37,
   "id": "d3b2619c",
   "metadata": {},
   "outputs": [
    {
     "data": {
      "text/plain": [
       "array([0, 0, 0, 0, 0, 0, 0, 0, 0, 1, 1, 1, 1, 1, 1, 1, 1, 1, 1, 2, 2, 2,\n",
       "       2, 2, 2, 2, 2, 2, 3, 3, 3, 3, 3, 3, 3, 3, 3])"
      ]
     },
     "execution_count": 37,
     "metadata": {},
     "output_type": "execute_result"
    }
   ],
   "source": [
    "#Pega os indices corretos\n",
    "true_labels = test_generator.labels\n",
    "true_labels"
   ]
  },
  {
   "cell_type": "code",
   "execution_count": 38,
   "id": "ab972ad1",
   "metadata": {},
   "outputs": [
    {
     "data": {
      "text/plain": [
       "array([ 0,  2,  4,  6,  7,  8,  9, 11, 12, 13, 14, 15, 16, 17, 18, 19, 20,\n",
       "       21, 22, 23, 24, 25, 26, 29, 30, 32, 33], dtype=int64)"
      ]
     },
     "execution_count": 38,
     "metadata": {},
     "output_type": "execute_result"
    }
   ],
   "source": [
    "#Pega os indices que foram classificados errados (i.e. vai pegar o indice dos dois arrays que estao diferentes EM VALOR)\n",
    "misclassified_indices = np.where(predicted_labels != true_labels)[0]\n",
    "misclassified_indices"
   ]
  },
  {
   "cell_type": "code",
   "execution_count": 39,
   "id": "8fe4b931",
   "metadata": {},
   "outputs": [
    {
     "data": {
      "image/png": "[encoded data removed]",
      "text/plain": [
       "<Figure size 432x432 with 2 Axes>"
      ]
     },
     "metadata": {
      "needs_background": "light"
     },
     "output_type": "display_data"
    }
   ],
   "source": [
    "confusion = confusion_matrix(true_labels, predicted_labels)\n",
    "\n",
    "\n",
    "plt.figure(figsize=(6, 6))\n",
    "sns.heatmap(confusion, annot=True, fmt='d', cmap='Reds', xticklabels=range(4), yticklabels=range(4))\n",
    "plt.xlabel('Valor previsto')\n",
    "plt.ylabel('Valor real')\n",
    "plt.title('Matriz de confusao')\n",
    "plt.show()"
   ]
  },
  {
   "cell_type": "code",
   "execution_count": null,
   "id": "4945e45a",
   "metadata": {},
   "outputs": [],
   "source": []
  }
 ],
 "metadata": {
  "kernelspec": {
   "display_name": "Python 3 (ipykernel)",
   "language": "python",
   "name": "python3"
  },
  "language_info": {
   "codemirror_mode": {
    "name": "ipython",
    "version": 3
   },
   "file_extension": ".py",
   "mimetype": "text/x-python",
   "name": "python",
   "nbconvert_exporter": "python",
   "pygments_lexer": "ipython3",
   "version": "3.9.12"
  }
 },
 "nbformat": 4,
 "nbformat_minor": 5
}
