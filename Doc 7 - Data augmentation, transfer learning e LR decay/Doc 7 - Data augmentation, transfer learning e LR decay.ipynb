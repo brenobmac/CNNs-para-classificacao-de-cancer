{
 "cells": [
  {
   "cell_type": "markdown",
   "id": "25808b80",
   "metadata": {},
   "source": [
    "# Doc 7 - Data augmentation, transfer learning e LR decay"
   ]
  },
  {
   "cell_type": "markdown",
   "id": "5c152cea",
   "metadata": {},
   "source": [
    "Vimos a partir das documentações 6.n que ainda sim o modelo segue não aprendendo muito bem, mas tem melhorado por meio da adição do balanceamento estrito de dados (tentando igualar o número de images) somado com data augmentation.\n",
    "\n",
    "Vamos ver agora o que acontece se colocarmos um LR variável no modelo, faznendo com que ele diminua no decorrer das épocas.\n",
    "\n",
    "Vamos continuar usando data augmentation."
   ]
  },
  {
   "cell_type": "markdown",
   "id": "60d39c27",
   "metadata": {},
   "source": [
    "## 1 - Análise inicial de dados"
   ]
  },
  {
   "cell_type": "code",
   "execution_count": 1,
   "id": "018d0513",
   "metadata": {},
   "outputs": [
    {
     "name": "stderr",
     "output_type": "stream",
     "text": [
      "C:\\Users\\breno\\anaconda3\\lib\\site-packages\\scipy\\__init__.py:146: UserWarning: A NumPy version >=1.16.5 and <1.23.0 is required for this version of SciPy (detected version 1.26.4\n",
      "  warnings.warn(f\"A NumPy version >={np_minversion} and <{np_maxversion}\"\n"
     ]
    }
   ],
   "source": [
    "#Imports padrão para o desenvolvimento da rede e visualização do dataset\n",
    "import tensorflow as tf\n",
    "from tensorflow.keras.models import Sequential\n",
    "from tensorflow.keras.layers import Conv2D, MaxPooling2D, Flatten, Dense, Dropout\n",
    "from tensorflow.keras.layers import GlobalAveragePooling2D\n",
    "from tensorflow.keras.preprocessing.image import ImageDataGenerator\n",
    "from tensorflow.keras.preprocessing import image\n",
    "from tensorflow.keras import layers, models, regularizers\n",
    "from tensorflow.keras.callbacks import EarlyStopping\n",
    "from tensorflow.keras.preprocessing.image import img_to_array, load_img\n",
    "from tensorflow.keras.utils import to_categorical\n",
    "from keras.optimizers import Adam\n",
    "from keras.callbacks import ReduceLROnPlateau #Interessante esse aqui - redução do LR se a validation n melhorar\n",
    "from tensorflow.keras.applications import DenseNet121\n",
    "from keras.applications import VGG16\n",
    "from keras.models import Model\n",
    "from sklearn.utils.class_weight import compute_class_weight\n",
    "from tensorflow.keras.callbacks import LearningRateScheduler\n",
    "\n",
    "#Imports \n",
    "import pydicom as dicom\n",
    "import matplotlib.pylab as plt\n",
    "import pandas as pd\n",
    "import os\n",
    "import numpy as np\n",
    "from tabulate import tabulate\n",
    "import tensorflow_io as tfio\n",
    "import tensorflow as tf\n",
    "import cv2\n",
    "from collections import Counter\n",
    "from PIL import Image\n",
    "from pydicom.pixel_data_handlers.util import apply_voi_lut\n",
    "import shutil\n",
    "from pathlib import Path\n",
    "import imagesize\n",
    "import splitfolders\n",
    "from sklearn.metrics import confusion_matrix\n",
    "import seaborn as sns\n",
    "import random"
   ]
  },
  {
   "cell_type": "code",
   "execution_count": 2,
   "id": "85694200",
   "metadata": {},
   "outputs": [
    {
     "data": {
      "text/plain": [
       "Text(0.5, 1.0, 'Frequencia de categoria one hot no dataset de teste')"
      ]
     },
     "execution_count": 2,
     "metadata": {},
     "output_type": "execute_result"
    },
    {
     "data": {
      "image/png": "[encoded data removed]",
      "text/plain": [
       "<Figure size 576x432 with 1 Axes>"
      ]
     },
     "metadata": {
      "needs_background": "light"
     },
     "output_type": "display_data"
    }
   ],
   "source": [
    "labels = pd.read_csv(r\"D:\\Coisinhas\\Coisas_UNB\\TCC\\dataset_dcm\\test\\manifest-1617905855234\\BCS-DBT-labels-test-PHASE-2.csv\") #Arquivo dos diagnosticos\n",
    "\n",
    "one_hot_sum = labels[['Normal', 'Actionable', 'Benign', 'Cancer']].sum()\n",
    "\n",
    "plt.figure(figsize=(8, 6))\n",
    "\n",
    "plt.bar(['Normal', 'Actionable', 'Benign', 'Cancer'], one_hot_sum)\n",
    "\n",
    "plt.xlabel('Categorias one hot')\n",
    "plt.ylabel('Frequencia')\n",
    "plt.title('Frequencia de categoria one hot no dataset de teste')"
   ]
  },
  {
   "cell_type": "code",
   "execution_count": 3,
   "id": "22828287",
   "metadata": {
    "scrolled": true
   },
   "outputs": [
    {
     "data": {
      "text/plain": [
       "Normal        1356\n",
       "Actionable     244\n",
       "Benign          61\n",
       "Cancer          60\n",
       "dtype: int64"
      ]
     },
     "execution_count": 3,
     "metadata": {},
     "output_type": "execute_result"
    }
   ],
   "source": [
    "one_hot_sum"
   ]
  },
  {
   "cell_type": "markdown",
   "id": "c77545ff",
   "metadata": {},
   "source": [
    "### 1.1 - Criação do folder balanceado"
   ]
  },
  {
   "cell_type": "code",
   "execution_count": 4,
   "id": "63ecd2b8",
   "metadata": {},
   "outputs": [],
   "source": [
    "original_folder = r\"D:\\Coisinhas\\Coisas_UNB\\TCC\\dataset_png\\test\"\n",
    "balanced_folder = r\"data\"\n",
    "\n",
    "counts = {\n",
    "    \"normal\": 60,\n",
    "    \"actionable\": 60,\n",
    "    \"benign\": 61,  \n",
    "    \"cancer\": 60   \n",
    "}\n",
    "\n",
    "for category, count in counts.items():\n",
    "    #Pega as classes\n",
    "    category_images = os.listdir(os.path.join(original_folder, category))\n",
    "    #Pega imagens aleatórias de cada classe\n",
    "    random_images = random.sample(category_images, count)\n",
    "    #Cria o folder da classe\n",
    "    os.makedirs(os.path.join(balanced_folder, category), exist_ok=True)\n",
    "    #Joga as imagens da classe no seu respectivo folder\n",
    "    for image in random_images:\n",
    "        shutil.copy(os.path.join(original_folder, category, image), os.path.join(balanced_folder, category))"
   ]
  },
  {
   "cell_type": "markdown",
   "id": "522117b9",
   "metadata": {},
   "source": [
    "### 1.2 - Resize das imagens"
   ]
  },
  {
   "cell_type": "code",
   "execution_count": 5,
   "id": "4ac02af6",
   "metadata": {},
   "outputs": [
    {
     "name": "stderr",
     "output_type": "stream",
     "text": [
      "C:\\Users\\breno\\AppData\\Local\\Temp\\ipykernel_18792\\2025520850.py:8: DeprecationWarning: ANTIALIAS is deprecated and will be removed in Pillow 10 (2023-07-01). Use LANCZOS or Resampling.LANCZOS instead.\n",
      "  resized_image = image.resize(target_size, Image.ANTIALIAS)\n"
     ]
    }
   ],
   "source": [
    "def resize_images(folder_path, target_size):\n",
    "    for root, dirs, files in os.walk(folder_path):\n",
    "        for file in files:\n",
    "            if file.endswith(\".png\"): \n",
    "                file_path = os.path.join(root, file)\n",
    "                image = Image.open(file_path)\n",
    "                if image.size != target_size:\n",
    "                    resized_image = image.resize(target_size, Image.ANTIALIAS)\n",
    "                    resized_image.save(file_path)\n",
    "                    \n",
    "\n",
    "folder_path = r\"D:\\Coisinhas\\Coisas_UNB\\TCC\\Notebooks\\Doc 7 - Data augmentation, transfer learning e loss com pesos\\data\"\n",
    "target_size = (1890, 2457) #Vamos primeiro dar o resize nas imagens que não têm essas dimensões.\n",
    "resize_images(folder_path, target_size)"
   ]
  },
  {
   "cell_type": "code",
   "execution_count": 6,
   "id": "e8f78055",
   "metadata": {},
   "outputs": [
    {
     "name": "stderr",
     "output_type": "stream",
     "text": [
      "C:\\Users\\breno\\AppData\\Local\\Temp\\ipykernel_18792\\2025520850.py:8: DeprecationWarning: ANTIALIAS is deprecated and will be removed in Pillow 10 (2023-07-01). Use LANCZOS or Resampling.LANCZOS instead.\n",
      "  resized_image = image.resize(target_size, Image.ANTIALIAS)\n"
     ]
    }
   ],
   "source": [
    "#Agora damos um resize de 4 vezes menor.\n",
    "target_size = (1890//4, 2457//4)\n",
    "resize_images(folder_path, target_size)"
   ]
  },
  {
   "cell_type": "markdown",
   "id": "db35ba7c",
   "metadata": {},
   "source": [
    "### 1.3 - Split do dataset"
   ]
  },
  {
   "cell_type": "code",
   "execution_count": 7,
   "id": "f963f9b9",
   "metadata": {},
   "outputs": [
    {
     "name": "stderr",
     "output_type": "stream",
     "text": [
      "Copying files: 241 files [00:01, 229.09 files/s]\n"
     ]
    }
   ],
   "source": [
    "input_folder = 'data' \n",
    "output_folder = 'split_data' \n",
    "\n",
    "splitfolders.ratio(input_folder, output_folder, seed=42, ratio=(.7, .15, .15), group_prefix=None) #Train/val/test"
   ]
  },
  {
   "cell_type": "code",
   "execution_count": 8,
   "id": "b9980b5b",
   "metadata": {},
   "outputs": [],
   "source": [
    "train_dir = 'split_data/train' \n",
    "val_dir = 'split_data/val' \n",
    "test_dir = 'split_data/test' "
   ]
  },
  {
   "cell_type": "code",
   "execution_count": 9,
   "id": "21739781",
   "metadata": {},
   "outputs": [
    {
     "name": "stdout",
     "output_type": "stream",
     "text": [
      "Found 168 images belonging to 4 classes.\n",
      "Found 36 images belonging to 4 classes.\n",
      "Found 37 images belonging to 4 classes.\n"
     ]
    }
   ],
   "source": [
    "train_datagen = ImageDataGenerator(\n",
    "    rescale=1./255,\n",
    "    horizontal_flip=True,\n",
    "    vertical_flip=True,\n",
    "    fill_mode='nearest'\n",
    ")\n",
    "\n",
    "val_datagen = ImageDataGenerator(\n",
    "    rescale=1./255\n",
    ")\n",
    "\n",
    "test_datagen = ImageDataGenerator(rescale=1./255)\n",
    "\n",
    "train_generator = train_datagen.flow_from_directory(\n",
    "    train_dir,\n",
    "    target_size=(1890//4, 2457//4),\n",
    "    batch_size=16,\n",
    "    class_mode='categorical'\n",
    ")\n",
    "\n",
    "val_generator = val_datagen.flow_from_directory(\n",
    "    val_dir,\n",
    "    target_size=(1890//4, 2457//4),\n",
    "    batch_size=16,\n",
    "    class_mode='categorical'\n",
    ")\n",
    "\n",
    "test_generator = test_datagen.flow_from_directory(\n",
    "    test_dir,\n",
    "    target_size=(1890//4, 2457//4),\n",
    "    batch_size=16,\n",
    "    class_mode='categorical'\n",
    ")"
   ]
  },
  {
   "cell_type": "code",
   "execution_count": 10,
   "id": "ee64826a",
   "metadata": {},
   "outputs": [
    {
     "data": {
      "image/png": "[encoded data removed]",
      "text/plain": [
       "<Figure size 720x432 with 1 Axes>"
      ]
     },
     "metadata": {
      "needs_background": "light"
     },
     "output_type": "display_data"
    }
   ],
   "source": [
    "#Aqui é so para checar se a quantidade de imagens esta ok\n",
    "folder_path = \"data\"\n",
    "\n",
    "folders = [\"actionable\", \"benign\", \"cancer\", \"normal\"]\n",
    "\n",
    "counts = []\n",
    "folder_names = []\n",
    "\n",
    "for folder in folders:\n",
    "    folder_names.append(folder)\n",
    "    folder_path_full = os.path.join(folder_path, folder)\n",
    "    file_count = len([name for name in os.listdir(folder_path_full) if os.path.isfile(os.path.join(folder_path_full, name))])\n",
    "    counts.append(file_count)\n",
    "\n",
    "plt.figure(figsize=(10, 6))\n",
    "plt.bar(folder_names, counts, color='skyblue')\n",
    "plt.xlabel('Pasta')\n",
    "plt.ylabel('Número de imagens')\n",
    "plt.title('Número de imagens por pasta')\n",
    "plt.xticks(rotation=45)\n",
    "plt.tight_layout()\n",
    "plt.show()"
   ]
  },
  {
   "cell_type": "code",
   "execution_count": 11,
   "id": "256f27be",
   "metadata": {},
   "outputs": [
    {
     "data": {
      "text/plain": [
       "[60, 61, 60, 60]"
      ]
     },
     "execution_count": 11,
     "metadata": {},
     "output_type": "execute_result"
    }
   ],
   "source": [
    "counts"
   ]
  },
  {
   "cell_type": "markdown",
   "id": "64abf8f9",
   "metadata": {},
   "source": [
    "## 2 - Desenvolvimento da rede"
   ]
  },
  {
   "cell_type": "markdown",
   "id": "6b29169d",
   "metadata": {},
   "source": [
    "### 2.1 Otimizador com LR variável."
   ]
  },
  {
   "cell_type": "code",
   "execution_count": 12,
   "id": "db4e20dc",
   "metadata": {},
   "outputs": [],
   "source": [
    "#Vai reduzir LR pela metade a cada 4 epocas\n",
    "def scheduler(epoch, lr):\n",
    "    if epoch % 10 == 0 and epoch != 0:\n",
    "        return lr * 0.5\n",
    "    else:\n",
    "        return lr\n",
    "\n",
    "#Esse vai ser o callback da rede\n",
    "lr_scheduler = LearningRateScheduler(scheduler)"
   ]
  },
  {
   "cell_type": "code",
   "execution_count": 13,
   "id": "c3904d31",
   "metadata": {},
   "outputs": [],
   "source": [
    "base_model = DenseNet121(weights='imagenet', include_top=False, input_shape=(1890//4, 2457//4, 3))\n",
    "\n",
    "for layer in base_model.layers:\n",
    "    layer.trainable = False\n",
    "    \n",
    "x = Flatten()(base_model.output)\n",
    "x = Dense(128, activation='relu')(x)\n",
    "predictions = Dense(4, activation='softmax')(x)\n",
    "\n",
    "\n",
    "model_densenet = Model(inputs=base_model.input, outputs=predictions)\n",
    "\n",
    "model_densenet.compile(optimizer=Adam(learning_rate=0.001),\n",
    "              loss='categorical_crossentropy',\n",
    "              metrics=['accuracy'])\n",
    "\n",
    "#model_densenet.summary()"
   ]
  },
  {
   "cell_type": "code",
   "execution_count": 14,
   "id": "9c1a10a0",
   "metadata": {},
   "outputs": [
    {
     "name": "stdout",
     "output_type": "stream",
     "text": [
      "Epoch 1/100\n"
     ]
    },
    {
     "name": "stderr",
     "output_type": "stream",
     "text": [
      "C:\\Users\\breno\\anaconda3\\lib\\site-packages\\keras\\src\\trainers\\data_adapters\\py_dataset_adapter.py:120: UserWarning: Your `PyDataset` class should call `super().__init__(**kwargs)` in its constructor. `**kwargs` can include `workers`, `use_multiprocessing`, `max_queue_size`. Do not pass these arguments to `fit()`, as they will be ignored.\n",
      "  self._warn_if_super_not_called()\n"
     ]
    },
    {
     "name": "stdout",
     "output_type": "stream",
     "text": [
      "\u001b[1m11/11\u001b[0m \u001b[32m━━━━━━━━━━━━━━━━━━━━\u001b[0m\u001b[37m\u001b[0m \u001b[1m103s\u001b[0m 9s/step - accuracy: 0.3474 - loss: 45.0221 - val_accuracy: 0.3056 - val_loss: 28.7469 - learning_rate: 0.0010\n",
      "Epoch 2/100\n",
      "\u001b[1m11/11\u001b[0m \u001b[32m━━━━━━━━━━━━━━━━━━━━\u001b[0m\u001b[37m\u001b[0m \u001b[1m101s\u001b[0m 9s/step - accuracy: 0.2285 - loss: 36.5058 - val_accuracy: 0.3056 - val_loss: 40.0765 - learning_rate: 0.0010\n",
      "Epoch 3/100\n",
      "\u001b[1m11/11\u001b[0m \u001b[32m━━━━━━━━━━━━━━━━━━━━\u001b[0m\u001b[37m\u001b[0m \u001b[1m90s\u001b[0m 8s/step - accuracy: 0.3669 - loss: 22.6792 - val_accuracy: 0.3333 - val_loss: 15.1879 - learning_rate: 0.0010\n",
      "Epoch 4/100\n",
      "\u001b[1m11/11\u001b[0m \u001b[32m━━━━━━━━━━━━━━━━━━━━\u001b[0m\u001b[37m\u001b[0m \u001b[1m81s\u001b[0m 7s/step - accuracy: 0.4241 - loss: 13.6272 - val_accuracy: 0.2778 - val_loss: 21.0956 - learning_rate: 0.0010\n",
      "Epoch 5/100\n",
      "\u001b[1m11/11\u001b[0m \u001b[32m━━━━━━━━━━━━━━━━━━━━\u001b[0m\u001b[37m\u001b[0m \u001b[1m81s\u001b[0m 8s/step - accuracy: 0.5778 - loss: 7.3920 - val_accuracy: 0.3333 - val_loss: 11.0088 - learning_rate: 0.0010\n",
      "Epoch 6/100\n",
      "\u001b[1m11/11\u001b[0m \u001b[32m━━━━━━━━━━━━━━━━━━━━\u001b[0m\u001b[37m\u001b[0m \u001b[1m82s\u001b[0m 7s/step - accuracy: 0.5727 - loss: 5.6529 - val_accuracy: 0.3056 - val_loss: 11.5485 - learning_rate: 0.0010\n",
      "Epoch 7/100\n",
      "\u001b[1m11/11\u001b[0m \u001b[32m━━━━━━━━━━━━━━━━━━━━\u001b[0m\u001b[37m\u001b[0m \u001b[1m80s\u001b[0m 7s/step - accuracy: 0.4492 - loss: 5.0290 - val_accuracy: 0.3056 - val_loss: 10.3877 - learning_rate: 0.0010\n",
      "Epoch 8/100\n",
      "\u001b[1m11/11\u001b[0m \u001b[32m━━━━━━━━━━━━━━━━━━━━\u001b[0m\u001b[37m\u001b[0m \u001b[1m80s\u001b[0m 8s/step - accuracy: 0.6025 - loss: 2.7672 - val_accuracy: 0.3333 - val_loss: 9.0140 - learning_rate: 0.0010\n",
      "Epoch 9/100\n",
      "\u001b[1m11/11\u001b[0m \u001b[32m━━━━━━━━━━━━━━━━━━━━\u001b[0m\u001b[37m\u001b[0m \u001b[1m80s\u001b[0m 7s/step - accuracy: 0.7404 - loss: 2.6124 - val_accuracy: 0.3056 - val_loss: 8.6402 - learning_rate: 0.0010\n",
      "Epoch 10/100\n",
      "\u001b[1m11/11\u001b[0m \u001b[32m━━━━━━━━━━━━━━━━━━━━\u001b[0m\u001b[37m\u001b[0m \u001b[1m81s\u001b[0m 7s/step - accuracy: 0.6280 - loss: 3.1594 - val_accuracy: 0.3611 - val_loss: 8.6251 - learning_rate: 0.0010\n",
      "Epoch 11/100\n",
      "\u001b[1m11/11\u001b[0m \u001b[32m━━━━━━━━━━━━━━━━━━━━\u001b[0m\u001b[37m\u001b[0m \u001b[1m81s\u001b[0m 7s/step - accuracy: 0.7374 - loss: 1.5601 - val_accuracy: 0.4444 - val_loss: 8.3820 - learning_rate: 5.0000e-04\n",
      "Epoch 12/100\n",
      "\u001b[1m11/11\u001b[0m \u001b[32m━━━━━━━━━━━━━━━━━━━━\u001b[0m\u001b[37m\u001b[0m \u001b[1m80s\u001b[0m 7s/step - accuracy: 0.8117 - loss: 1.3531 - val_accuracy: 0.3889 - val_loss: 5.5062 - learning_rate: 5.0000e-04\n",
      "Epoch 13/100\n",
      "\u001b[1m11/11\u001b[0m \u001b[32m━━━━━━━━━━━━━━━━━━━━\u001b[0m\u001b[37m\u001b[0m \u001b[1m80s\u001b[0m 7s/step - accuracy: 0.8567 - loss: 0.9056 - val_accuracy: 0.3611 - val_loss: 5.9243 - learning_rate: 5.0000e-04\n",
      "Epoch 14/100\n",
      "\u001b[1m11/11\u001b[0m \u001b[32m━━━━━━━━━━━━━━━━━━━━\u001b[0m\u001b[37m\u001b[0m \u001b[1m80s\u001b[0m 7s/step - accuracy: 0.8954 - loss: 0.4737 - val_accuracy: 0.3611 - val_loss: 8.0714 - learning_rate: 5.0000e-04\n",
      "Epoch 15/100\n",
      "\u001b[1m11/11\u001b[0m \u001b[32m━━━━━━━━━━━━━━━━━━━━\u001b[0m\u001b[37m\u001b[0m \u001b[1m80s\u001b[0m 7s/step - accuracy: 0.9156 - loss: 0.3906 - val_accuracy: 0.3333 - val_loss: 6.5556 - learning_rate: 5.0000e-04\n",
      "Epoch 16/100\n",
      "\u001b[1m11/11\u001b[0m \u001b[32m━━━━━━━━━━━━━━━━━━━━\u001b[0m\u001b[37m\u001b[0m \u001b[1m80s\u001b[0m 7s/step - accuracy: 0.9058 - loss: 0.2990 - val_accuracy: 0.2778 - val_loss: 7.3536 - learning_rate: 5.0000e-04\n",
      "Epoch 17/100\n",
      "\u001b[1m11/11\u001b[0m \u001b[32m━━━━━━━━━━━━━━━━━━━━\u001b[0m\u001b[37m\u001b[0m \u001b[1m88s\u001b[0m 8s/step - accuracy: 0.8599 - loss: 0.5228 - val_accuracy: 0.4444 - val_loss: 7.7427 - learning_rate: 5.0000e-04\n",
      "Epoch 18/100\n",
      "\u001b[1m11/11\u001b[0m \u001b[32m━━━━━━━━━━━━━━━━━━━━\u001b[0m\u001b[37m\u001b[0m \u001b[1m92s\u001b[0m 8s/step - accuracy: 0.9260 - loss: 0.2236 - val_accuracy: 0.2778 - val_loss: 6.0395 - learning_rate: 5.0000e-04\n",
      "Epoch 19/100\n",
      "\u001b[1m11/11\u001b[0m \u001b[32m━━━━━━━━━━━━━━━━━━━━\u001b[0m\u001b[37m\u001b[0m \u001b[1m80s\u001b[0m 7s/step - accuracy: 0.9140 - loss: 0.2056 - val_accuracy: 0.3611 - val_loss: 5.1047 - learning_rate: 5.0000e-04\n",
      "Epoch 20/100\n",
      "\u001b[1m11/11\u001b[0m \u001b[32m━━━━━━━━━━━━━━━━━━━━\u001b[0m\u001b[37m\u001b[0m \u001b[1m81s\u001b[0m 7s/step - accuracy: 0.9196 - loss: 0.4135 - val_accuracy: 0.3056 - val_loss: 6.7327 - learning_rate: 5.0000e-04\n",
      "Epoch 21/100\n",
      "\u001b[1m11/11\u001b[0m \u001b[32m━━━━━━━━━━━━━━━━━━━━\u001b[0m\u001b[37m\u001b[0m \u001b[1m84s\u001b[0m 8s/step - accuracy: 0.9732 - loss: 0.0997 - val_accuracy: 0.3333 - val_loss: 6.3425 - learning_rate: 2.5000e-04\n",
      "Epoch 22/100\n",
      "\u001b[1m11/11\u001b[0m \u001b[32m━━━━━━━━━━━━━━━━━━━━\u001b[0m\u001b[37m\u001b[0m \u001b[1m87s\u001b[0m 8s/step - accuracy: 0.9493 - loss: 0.1272 - val_accuracy: 0.3889 - val_loss: 6.2820 - learning_rate: 2.5000e-04\n",
      "Epoch 23/100\n",
      "\u001b[1m11/11\u001b[0m \u001b[32m━━━━━━━━━━━━━━━━━━━━\u001b[0m\u001b[37m\u001b[0m \u001b[1m80s\u001b[0m 7s/step - accuracy: 0.9826 - loss: 0.0450 - val_accuracy: 0.3889 - val_loss: 5.3711 - learning_rate: 2.5000e-04\n",
      "Epoch 24/100\n",
      "\u001b[1m11/11\u001b[0m \u001b[32m━━━━━━━━━━━━━━━━━━━━\u001b[0m\u001b[37m\u001b[0m \u001b[1m80s\u001b[0m 7s/step - accuracy: 0.9585 - loss: 0.1620 - val_accuracy: 0.3889 - val_loss: 5.4823 - learning_rate: 2.5000e-04\n",
      "Epoch 25/100\n",
      "\u001b[1m11/11\u001b[0m \u001b[32m━━━━━━━━━━━━━━━━━━━━\u001b[0m\u001b[37m\u001b[0m \u001b[1m81s\u001b[0m 7s/step - accuracy: 1.0000 - loss: 0.0131 - val_accuracy: 0.3333 - val_loss: 5.1835 - learning_rate: 2.5000e-04\n",
      "Epoch 26/100\n",
      "\u001b[1m11/11\u001b[0m \u001b[32m━━━━━━━━━━━━━━━━━━━━\u001b[0m\u001b[37m\u001b[0m \u001b[1m81s\u001b[0m 8s/step - accuracy: 1.0000 - loss: 0.0075 - val_accuracy: 0.3611 - val_loss: 4.6950 - learning_rate: 2.5000e-04\n",
      "Epoch 27/100\n",
      "\u001b[1m11/11\u001b[0m \u001b[32m━━━━━━━━━━━━━━━━━━━━\u001b[0m\u001b[37m\u001b[0m \u001b[1m81s\u001b[0m 7s/step - accuracy: 1.0000 - loss: 0.0038 - val_accuracy: 0.3889 - val_loss: 6.0879 - learning_rate: 2.5000e-04\n",
      "Epoch 28/100\n",
      "\u001b[1m11/11\u001b[0m \u001b[32m━━━━━━━━━━━━━━━━━━━━\u001b[0m\u001b[37m\u001b[0m \u001b[1m81s\u001b[0m 7s/step - accuracy: 0.9962 - loss: 0.0225 - val_accuracy: 0.3889 - val_loss: 5.7629 - learning_rate: 2.5000e-04\n",
      "Epoch 29/100\n",
      "\u001b[1m11/11\u001b[0m \u001b[32m━━━━━━━━━━━━━━━━━━━━\u001b[0m\u001b[37m\u001b[0m \u001b[1m80s\u001b[0m 7s/step - accuracy: 0.9955 - loss: 0.0134 - val_accuracy: 0.3889 - val_loss: 7.6725 - learning_rate: 2.5000e-04\n",
      "Epoch 30/100\n",
      "\u001b[1m11/11\u001b[0m \u001b[32m━━━━━━━━━━━━━━━━━━━━\u001b[0m\u001b[37m\u001b[0m \u001b[1m80s\u001b[0m 7s/step - accuracy: 0.9944 - loss: 0.0214 - val_accuracy: 0.3333 - val_loss: 5.5089 - learning_rate: 2.5000e-04\n",
      "Epoch 31/100\n",
      "\u001b[1m11/11\u001b[0m \u001b[32m━━━━━━━━━━━━━━━━━━━━\u001b[0m\u001b[37m\u001b[0m \u001b[1m80s\u001b[0m 7s/step - accuracy: 1.0000 - loss: 0.0080 - val_accuracy: 0.3333 - val_loss: 6.2147 - learning_rate: 1.2500e-04\n",
      "Epoch 32/100\n",
      "\u001b[1m11/11\u001b[0m \u001b[32m━━━━━━━━━━━━━━━━━━━━\u001b[0m\u001b[37m\u001b[0m \u001b[1m83s\u001b[0m 8s/step - accuracy: 0.9973 - loss: 0.0158 - val_accuracy: 0.3056 - val_loss: 8.2304 - learning_rate: 1.2500e-04\n",
      "Epoch 33/100\n",
      "\u001b[1m11/11\u001b[0m \u001b[32m━━━━━━━━━━━━━━━━━━━━\u001b[0m\u001b[37m\u001b[0m \u001b[1m82s\u001b[0m 7s/step - accuracy: 1.0000 - loss: 0.0063 - val_accuracy: 0.3333 - val_loss: 6.0358 - learning_rate: 1.2500e-04\n",
      "Epoch 34/100\n",
      "\u001b[1m11/11\u001b[0m \u001b[32m━━━━━━━━━━━━━━━━━━━━\u001b[0m\u001b[37m\u001b[0m \u001b[1m82s\u001b[0m 7s/step - accuracy: 0.9929 - loss: 0.0166 - val_accuracy: 0.3333 - val_loss: 6.3279 - learning_rate: 1.2500e-04\n",
      "Epoch 35/100\n",
      "\u001b[1m11/11\u001b[0m \u001b[32m━━━━━━━━━━━━━━━━━━━━\u001b[0m\u001b[37m\u001b[0m \u001b[1m80s\u001b[0m 7s/step - accuracy: 1.0000 - loss: 0.0040 - val_accuracy: 0.3333 - val_loss: 5.2397 - learning_rate: 1.2500e-04\n",
      "Epoch 36/100\n",
      "\u001b[1m11/11\u001b[0m \u001b[32m━━━━━━━━━━━━━━━━━━━━\u001b[0m\u001b[37m\u001b[0m \u001b[1m80s\u001b[0m 7s/step - accuracy: 0.9932 - loss: 0.0167 - val_accuracy: 0.3333 - val_loss: 5.6754 - learning_rate: 1.2500e-04\n",
      "Epoch 37/100\n",
      "\u001b[1m11/11\u001b[0m \u001b[32m━━━━━━━━━━━━━━━━━━━━\u001b[0m\u001b[37m\u001b[0m \u001b[1m82s\u001b[0m 7s/step - accuracy: 1.0000 - loss: 0.0039 - val_accuracy: 0.3333 - val_loss: 8.0688 - learning_rate: 1.2500e-04\n",
      "Epoch 38/100\n",
      "\u001b[1m11/11\u001b[0m \u001b[32m━━━━━━━━━━━━━━━━━━━━\u001b[0m\u001b[37m\u001b[0m \u001b[1m80s\u001b[0m 7s/step - accuracy: 0.9914 - loss: 0.0409 - val_accuracy: 0.3333 - val_loss: 5.8567 - learning_rate: 1.2500e-04\n",
      "Epoch 39/100\n",
      "\u001b[1m11/11\u001b[0m \u001b[32m━━━━━━━━━━━━━━━━━━━━\u001b[0m\u001b[37m\u001b[0m \u001b[1m81s\u001b[0m 7s/step - accuracy: 1.0000 - loss: 0.0031 - val_accuracy: 0.3333 - val_loss: 5.7931 - learning_rate: 1.2500e-04\n",
      "Epoch 40/100\n",
      "\u001b[1m11/11\u001b[0m \u001b[32m━━━━━━━━━━━━━━━━━━━━\u001b[0m\u001b[37m\u001b[0m \u001b[1m81s\u001b[0m 7s/step - accuracy: 0.9837 - loss: 0.0223 - val_accuracy: 0.3333 - val_loss: 4.9911 - learning_rate: 1.2500e-04\n",
      "Epoch 41/100\n",
      "\u001b[1m11/11\u001b[0m \u001b[32m━━━━━━━━━━━━━━━━━━━━\u001b[0m\u001b[37m\u001b[0m \u001b[1m80s\u001b[0m 7s/step - accuracy: 1.0000 - loss: 0.0033 - val_accuracy: 0.3333 - val_loss: 7.2162 - learning_rate: 6.2500e-05\n",
      "Epoch 42/100\n",
      "\u001b[1m11/11\u001b[0m \u001b[32m━━━━━━━━━━━━━━━━━━━━\u001b[0m\u001b[37m\u001b[0m \u001b[1m80s\u001b[0m 7s/step - accuracy: 1.0000 - loss: 0.0023 - val_accuracy: 0.3333 - val_loss: 5.7021 - learning_rate: 6.2500e-05\n",
      "Epoch 43/100\n",
      "\u001b[1m11/11\u001b[0m \u001b[32m━━━━━━━━━━━━━━━━━━━━\u001b[0m\u001b[37m\u001b[0m \u001b[1m81s\u001b[0m 7s/step - accuracy: 1.0000 - loss: 0.0032 - val_accuracy: 0.3333 - val_loss: 6.0534 - learning_rate: 6.2500e-05\n",
      "Epoch 44/100\n"
     ]
    },
    {
     "name": "stdout",
     "output_type": "stream",
     "text": [
      "\u001b[1m11/11\u001b[0m \u001b[32m━━━━━━━━━━━━━━━━━━━━\u001b[0m\u001b[37m\u001b[0m \u001b[1m83s\u001b[0m 8s/step - accuracy: 0.9990 - loss: 0.0027 - val_accuracy: 0.3333 - val_loss: 7.2957 - learning_rate: 6.2500e-05\n",
      "Epoch 45/100\n",
      "\u001b[1m11/11\u001b[0m \u001b[32m━━━━━━━━━━━━━━━━━━━━\u001b[0m\u001b[37m\u001b[0m \u001b[1m81s\u001b[0m 7s/step - accuracy: 1.0000 - loss: 0.0019 - val_accuracy: 0.3333 - val_loss: 5.0350 - learning_rate: 6.2500e-05\n",
      "Epoch 46/100\n",
      "\u001b[1m11/11\u001b[0m \u001b[32m━━━━━━━━━━━━━━━━━━━━\u001b[0m\u001b[37m\u001b[0m \u001b[1m80s\u001b[0m 7s/step - accuracy: 1.0000 - loss: 0.0017 - val_accuracy: 0.3333 - val_loss: 6.5518 - learning_rate: 6.2500e-05\n",
      "Epoch 47/100\n",
      "\u001b[1m11/11\u001b[0m \u001b[32m━━━━━━━━━━━━━━━━━━━━\u001b[0m\u001b[37m\u001b[0m \u001b[1m81s\u001b[0m 7s/step - accuracy: 1.0000 - loss: 0.0033 - val_accuracy: 0.3333 - val_loss: 5.1930 - learning_rate: 6.2500e-05\n",
      "Epoch 48/100\n",
      "\u001b[1m11/11\u001b[0m \u001b[32m━━━━━━━━━━━━━━━━━━━━\u001b[0m\u001b[37m\u001b[0m \u001b[1m80s\u001b[0m 7s/step - accuracy: 1.0000 - loss: 0.0024 - val_accuracy: 0.3333 - val_loss: 4.9764 - learning_rate: 6.2500e-05\n",
      "Epoch 49/100\n",
      "\u001b[1m11/11\u001b[0m \u001b[32m━━━━━━━━━━━━━━━━━━━━\u001b[0m\u001b[37m\u001b[0m \u001b[1m81s\u001b[0m 7s/step - accuracy: 1.0000 - loss: 0.0065 - val_accuracy: 0.3333 - val_loss: 7.8160 - learning_rate: 6.2500e-05\n",
      "Epoch 50/100\n",
      "\u001b[1m11/11\u001b[0m \u001b[32m━━━━━━━━━━━━━━━━━━━━\u001b[0m\u001b[37m\u001b[0m \u001b[1m81s\u001b[0m 7s/step - accuracy: 1.0000 - loss: 0.0017 - val_accuracy: 0.3333 - val_loss: 6.9699 - learning_rate: 6.2500e-05\n",
      "Epoch 51/100\n",
      "\u001b[1m11/11\u001b[0m \u001b[32m━━━━━━━━━━━━━━━━━━━━\u001b[0m\u001b[37m\u001b[0m \u001b[1m81s\u001b[0m 7s/step - accuracy: 1.0000 - loss: 0.0023 - val_accuracy: 0.3333 - val_loss: 6.6584 - learning_rate: 3.1250e-05\n",
      "Epoch 52/100\n",
      "\u001b[1m11/11\u001b[0m \u001b[32m━━━━━━━━━━━━━━━━━━━━\u001b[0m\u001b[37m\u001b[0m \u001b[1m80s\u001b[0m 7s/step - accuracy: 1.0000 - loss: 0.0031 - val_accuracy: 0.3333 - val_loss: 5.9444 - learning_rate: 3.1250e-05\n",
      "Epoch 53/100\n",
      "\u001b[1m11/11\u001b[0m \u001b[32m━━━━━━━━━━━━━━━━━━━━\u001b[0m\u001b[37m\u001b[0m \u001b[1m80s\u001b[0m 7s/step - accuracy: 1.0000 - loss: 0.0040 - val_accuracy: 0.3333 - val_loss: 6.1132 - learning_rate: 3.1250e-05\n",
      "Epoch 54/100\n",
      "\u001b[1m11/11\u001b[0m \u001b[32m━━━━━━━━━━━━━━━━━━━━\u001b[0m\u001b[37m\u001b[0m \u001b[1m80s\u001b[0m 7s/step - accuracy: 1.0000 - loss: 0.0034 - val_accuracy: 0.3333 - val_loss: 5.6640 - learning_rate: 3.1250e-05\n",
      "Epoch 55/100\n",
      "\u001b[1m11/11\u001b[0m \u001b[32m━━━━━━━━━━━━━━━━━━━━\u001b[0m\u001b[37m\u001b[0m \u001b[1m82s\u001b[0m 8s/step - accuracy: 1.0000 - loss: 0.0016 - val_accuracy: 0.3333 - val_loss: 5.2267 - learning_rate: 3.1250e-05\n",
      "Epoch 56/100\n",
      "\u001b[1m11/11\u001b[0m \u001b[32m━━━━━━━━━━━━━━━━━━━━\u001b[0m\u001b[37m\u001b[0m \u001b[1m80s\u001b[0m 7s/step - accuracy: 1.0000 - loss: 0.0013 - val_accuracy: 0.3333 - val_loss: 5.3134 - learning_rate: 3.1250e-05\n",
      "Epoch 57/100\n",
      "\u001b[1m11/11\u001b[0m \u001b[32m━━━━━━━━━━━━━━━━━━━━\u001b[0m\u001b[37m\u001b[0m \u001b[1m80s\u001b[0m 7s/step - accuracy: 1.0000 - loss: 0.0025 - val_accuracy: 0.3333 - val_loss: 5.5717 - learning_rate: 3.1250e-05\n",
      "Epoch 58/100\n",
      "\u001b[1m11/11\u001b[0m \u001b[32m━━━━━━━━━━━━━━━━━━━━\u001b[0m\u001b[37m\u001b[0m \u001b[1m80s\u001b[0m 7s/step - accuracy: 1.0000 - loss: 8.5691e-04 - val_accuracy: 0.3333 - val_loss: 5.1605 - learning_rate: 3.1250e-05\n",
      "Epoch 59/100\n",
      "\u001b[1m11/11\u001b[0m \u001b[32m━━━━━━━━━━━━━━━━━━━━\u001b[0m\u001b[37m\u001b[0m \u001b[1m80s\u001b[0m 7s/step - accuracy: 1.0000 - loss: 0.0039 - val_accuracy: 0.3333 - val_loss: 5.0892 - learning_rate: 3.1250e-05\n",
      "Epoch 60/100\n",
      "\u001b[1m11/11\u001b[0m \u001b[32m━━━━━━━━━━━━━━━━━━━━\u001b[0m\u001b[37m\u001b[0m \u001b[1m80s\u001b[0m 7s/step - accuracy: 1.0000 - loss: 0.0023 - val_accuracy: 0.3333 - val_loss: 6.6532 - learning_rate: 3.1250e-05\n",
      "Epoch 61/100\n",
      "\u001b[1m11/11\u001b[0m \u001b[32m━━━━━━━━━━━━━━━━━━━━\u001b[0m\u001b[37m\u001b[0m \u001b[1m81s\u001b[0m 7s/step - accuracy: 1.0000 - loss: 0.0018 - val_accuracy: 0.3333 - val_loss: 8.1199 - learning_rate: 1.5625e-05\n",
      "Epoch 62/100\n",
      "\u001b[1m11/11\u001b[0m \u001b[32m━━━━━━━━━━━━━━━━━━━━\u001b[0m\u001b[37m\u001b[0m \u001b[1m82s\u001b[0m 7s/step - accuracy: 1.0000 - loss: 9.5104e-04 - val_accuracy: 0.3333 - val_loss: 6.9709 - learning_rate: 1.5625e-05\n",
      "Epoch 63/100\n",
      "\u001b[1m11/11\u001b[0m \u001b[32m━━━━━━━━━━━━━━━━━━━━\u001b[0m\u001b[37m\u001b[0m \u001b[1m82s\u001b[0m 8s/step - accuracy: 1.0000 - loss: 0.0054 - val_accuracy: 0.3333 - val_loss: 4.8252 - learning_rate: 1.5625e-05\n",
      "Epoch 64/100\n",
      "\u001b[1m11/11\u001b[0m \u001b[32m━━━━━━━━━━━━━━━━━━━━\u001b[0m\u001b[37m\u001b[0m \u001b[1m80s\u001b[0m 7s/step - accuracy: 1.0000 - loss: 0.0074 - val_accuracy: 0.3333 - val_loss: 5.0332 - learning_rate: 1.5625e-05\n",
      "Epoch 65/100\n",
      "\u001b[1m11/11\u001b[0m \u001b[32m━━━━━━━━━━━━━━━━━━━━\u001b[0m\u001b[37m\u001b[0m \u001b[1m81s\u001b[0m 7s/step - accuracy: 1.0000 - loss: 0.0012 - val_accuracy: 0.3333 - val_loss: 5.7915 - learning_rate: 1.5625e-05\n",
      "Epoch 66/100\n",
      "\u001b[1m11/11\u001b[0m \u001b[32m━━━━━━━━━━━━━━━━━━━━\u001b[0m\u001b[37m\u001b[0m \u001b[1m84s\u001b[0m 8s/step - accuracy: 1.0000 - loss: 0.0013 - val_accuracy: 0.3333 - val_loss: 5.9973 - learning_rate: 1.5625e-05\n",
      "Epoch 67/100\n",
      "\u001b[1m11/11\u001b[0m \u001b[32m━━━━━━━━━━━━━━━━━━━━\u001b[0m\u001b[37m\u001b[0m \u001b[1m81s\u001b[0m 7s/step - accuracy: 1.0000 - loss: 0.0025 - val_accuracy: 0.3333 - val_loss: 5.8623 - learning_rate: 1.5625e-05\n",
      "Epoch 68/100\n",
      "\u001b[1m11/11\u001b[0m \u001b[32m━━━━━━━━━━━━━━━━━━━━\u001b[0m\u001b[37m\u001b[0m \u001b[1m80s\u001b[0m 7s/step - accuracy: 1.0000 - loss: 0.0019 - val_accuracy: 0.3333 - val_loss: 6.1548 - learning_rate: 1.5625e-05\n",
      "Epoch 69/100\n",
      "\u001b[1m11/11\u001b[0m \u001b[32m━━━━━━━━━━━━━━━━━━━━\u001b[0m\u001b[37m\u001b[0m \u001b[1m81s\u001b[0m 8s/step - accuracy: 1.0000 - loss: 0.0014 - val_accuracy: 0.3333 - val_loss: 5.3969 - learning_rate: 1.5625e-05\n",
      "Epoch 70/100\n",
      "\u001b[1m11/11\u001b[0m \u001b[32m━━━━━━━━━━━━━━━━━━━━\u001b[0m\u001b[37m\u001b[0m \u001b[1m80s\u001b[0m 7s/step - accuracy: 1.0000 - loss: 0.0023 - val_accuracy: 0.3333 - val_loss: 6.6449 - learning_rate: 1.5625e-05\n",
      "Epoch 71/100\n",
      "\u001b[1m11/11\u001b[0m \u001b[32m━━━━━━━━━━━━━━━━━━━━\u001b[0m\u001b[37m\u001b[0m \u001b[1m80s\u001b[0m 7s/step - accuracy: 1.0000 - loss: 0.0015 - val_accuracy: 0.3333 - val_loss: 6.1495 - learning_rate: 7.8125e-06\n",
      "Epoch 72/100\n",
      "\u001b[1m11/11\u001b[0m \u001b[32m━━━━━━━━━━━━━━━━━━━━\u001b[0m\u001b[37m\u001b[0m \u001b[1m81s\u001b[0m 8s/step - accuracy: 1.0000 - loss: 0.0030 - val_accuracy: 0.3333 - val_loss: 6.1715 - learning_rate: 7.8125e-06\n",
      "Epoch 73/100\n",
      "\u001b[1m11/11\u001b[0m \u001b[32m━━━━━━━━━━━━━━━━━━━━\u001b[0m\u001b[37m\u001b[0m \u001b[1m81s\u001b[0m 7s/step - accuracy: 1.0000 - loss: 0.0035 - val_accuracy: 0.3333 - val_loss: 6.0629 - learning_rate: 7.8125e-06\n",
      "Epoch 74/100\n",
      "\u001b[1m11/11\u001b[0m \u001b[32m━━━━━━━━━━━━━━━━━━━━\u001b[0m\u001b[37m\u001b[0m \u001b[1m80s\u001b[0m 8s/step - accuracy: 1.0000 - loss: 0.0034 - val_accuracy: 0.3333 - val_loss: 5.3686 - learning_rate: 7.8125e-06\n",
      "Epoch 75/100\n",
      "\u001b[1m11/11\u001b[0m \u001b[32m━━━━━━━━━━━━━━━━━━━━\u001b[0m\u001b[37m\u001b[0m \u001b[1m80s\u001b[0m 7s/step - accuracy: 1.0000 - loss: 0.0029 - val_accuracy: 0.3333 - val_loss: 7.2448 - learning_rate: 7.8125e-06\n",
      "Epoch 76/100\n",
      "\u001b[1m11/11\u001b[0m \u001b[32m━━━━━━━━━━━━━━━━━━━━\u001b[0m\u001b[37m\u001b[0m \u001b[1m82s\u001b[0m 8s/step - accuracy: 1.0000 - loss: 0.0024 - val_accuracy: 0.3333 - val_loss: 7.8110 - learning_rate: 7.8125e-06\n",
      "Epoch 77/100\n",
      "\u001b[1m11/11\u001b[0m \u001b[32m━━━━━━━━━━━━━━━━━━━━\u001b[0m\u001b[37m\u001b[0m \u001b[1m84s\u001b[0m 8s/step - accuracy: 1.0000 - loss: 0.0020 - val_accuracy: 0.3333 - val_loss: 6.5136 - learning_rate: 7.8125e-06\n",
      "Epoch 78/100\n",
      "\u001b[1m11/11\u001b[0m \u001b[32m━━━━━━━━━━━━━━━━━━━━\u001b[0m\u001b[37m\u001b[0m \u001b[1m81s\u001b[0m 7s/step - accuracy: 1.0000 - loss: 0.0027 - val_accuracy: 0.3333 - val_loss: 5.9719 - learning_rate: 7.8125e-06\n",
      "Epoch 79/100\n",
      "\u001b[1m11/11\u001b[0m \u001b[32m━━━━━━━━━━━━━━━━━━━━\u001b[0m\u001b[37m\u001b[0m \u001b[1m80s\u001b[0m 7s/step - accuracy: 1.0000 - loss: 0.0031 - val_accuracy: 0.3333 - val_loss: 6.1117 - learning_rate: 7.8125e-06\n",
      "Epoch 80/100\n",
      "\u001b[1m11/11\u001b[0m \u001b[32m━━━━━━━━━━━━━━━━━━━━\u001b[0m\u001b[37m\u001b[0m \u001b[1m82s\u001b[0m 7s/step - accuracy: 1.0000 - loss: 0.0018 - val_accuracy: 0.3333 - val_loss: 6.5282 - learning_rate: 7.8125e-06\n",
      "Epoch 81/100\n",
      "\u001b[1m11/11\u001b[0m \u001b[32m━━━━━━━━━━━━━━━━━━━━\u001b[0m\u001b[37m\u001b[0m \u001b[1m80s\u001b[0m 7s/step - accuracy: 1.0000 - loss: 0.0023 - val_accuracy: 0.3333 - val_loss: 7.9577 - learning_rate: 3.9063e-06\n",
      "Epoch 82/100\n",
      "\u001b[1m11/11\u001b[0m \u001b[32m━━━━━━━━━━━━━━━━━━━━\u001b[0m\u001b[37m\u001b[0m \u001b[1m80s\u001b[0m 7s/step - accuracy: 1.0000 - loss: 0.0027 - val_accuracy: 0.3333 - val_loss: 6.3285 - learning_rate: 3.9063e-06\n",
      "Epoch 83/100\n",
      "\u001b[1m11/11\u001b[0m \u001b[32m━━━━━━━━━━━━━━━━━━━━\u001b[0m\u001b[37m\u001b[0m \u001b[1m80s\u001b[0m 8s/step - accuracy: 1.0000 - loss: 0.0037 - val_accuracy: 0.3333 - val_loss: 6.5232 - learning_rate: 3.9063e-06\n",
      "Epoch 84/100\n",
      "\u001b[1m11/11\u001b[0m \u001b[32m━━━━━━━━━━━━━━━━━━━━\u001b[0m\u001b[37m\u001b[0m \u001b[1m83s\u001b[0m 8s/step - accuracy: 1.0000 - loss: 0.0013 - val_accuracy: 0.3333 - val_loss: 5.8141 - learning_rate: 3.9063e-06\n",
      "Epoch 85/100\n",
      "\u001b[1m11/11\u001b[0m \u001b[32m━━━━━━━━━━━━━━━━━━━━\u001b[0m\u001b[37m\u001b[0m \u001b[1m85s\u001b[0m 8s/step - accuracy: 1.0000 - loss: 9.2837e-04 - val_accuracy: 0.3333 - val_loss: 7.0557 - learning_rate: 3.9063e-06\n",
      "Epoch 86/100\n",
      "\u001b[1m11/11\u001b[0m \u001b[32m━━━━━━━━━━━━━━━━━━━━\u001b[0m\u001b[37m\u001b[0m \u001b[1m80s\u001b[0m 7s/step - accuracy: 1.0000 - loss: 0.0031 - val_accuracy: 0.3333 - val_loss: 5.3656 - learning_rate: 3.9063e-06\n",
      "Epoch 87/100\n"
     ]
    },
    {
     "name": "stdout",
     "output_type": "stream",
     "text": [
      "\u001b[1m11/11\u001b[0m \u001b[32m━━━━━━━━━━━━━━━━━━━━\u001b[0m\u001b[37m\u001b[0m \u001b[1m80s\u001b[0m 8s/step - accuracy: 1.0000 - loss: 0.0023 - val_accuracy: 0.3333 - val_loss: 7.1911 - learning_rate: 3.9063e-06\n",
      "Epoch 88/100\n",
      "\u001b[1m11/11\u001b[0m \u001b[32m━━━━━━━━━━━━━━━━━━━━\u001b[0m\u001b[37m\u001b[0m \u001b[1m82s\u001b[0m 7s/step - accuracy: 1.0000 - loss: 0.0024 - val_accuracy: 0.3333 - val_loss: 5.7378 - learning_rate: 3.9063e-06\n",
      "Epoch 89/100\n",
      "\u001b[1m11/11\u001b[0m \u001b[32m━━━━━━━━━━━━━━━━━━━━\u001b[0m\u001b[37m\u001b[0m \u001b[1m81s\u001b[0m 7s/step - accuracy: 1.0000 - loss: 0.0027 - val_accuracy: 0.3333 - val_loss: 5.7798 - learning_rate: 3.9063e-06\n",
      "Epoch 90/100\n",
      "\u001b[1m11/11\u001b[0m \u001b[32m━━━━━━━━━━━━━━━━━━━━\u001b[0m\u001b[37m\u001b[0m \u001b[1m81s\u001b[0m 7s/step - accuracy: 1.0000 - loss: 0.0032 - val_accuracy: 0.3333 - val_loss: 5.2338 - learning_rate: 3.9063e-06\n",
      "Epoch 91/100\n",
      "\u001b[1m11/11\u001b[0m \u001b[32m━━━━━━━━━━━━━━━━━━━━\u001b[0m\u001b[37m\u001b[0m \u001b[1m80s\u001b[0m 7s/step - accuracy: 1.0000 - loss: 0.0020 - val_accuracy: 0.3333 - val_loss: 6.2792 - learning_rate: 1.9531e-06\n",
      "Epoch 92/100\n",
      "\u001b[1m11/11\u001b[0m \u001b[32m━━━━━━━━━━━━━━━━━━━━\u001b[0m\u001b[37m\u001b[0m \u001b[1m81s\u001b[0m 8s/step - accuracy: 1.0000 - loss: 0.0022 - val_accuracy: 0.3333 - val_loss: 5.7556 - learning_rate: 1.9531e-06\n",
      "Epoch 93/100\n",
      "\u001b[1m11/11\u001b[0m \u001b[32m━━━━━━━━━━━━━━━━━━━━\u001b[0m\u001b[37m\u001b[0m \u001b[1m81s\u001b[0m 7s/step - accuracy: 1.0000 - loss: 0.0028 - val_accuracy: 0.3333 - val_loss: 5.8993 - learning_rate: 1.9531e-06\n",
      "Epoch 94/100\n",
      "\u001b[1m11/11\u001b[0m \u001b[32m━━━━━━━━━━━━━━━━━━━━\u001b[0m\u001b[37m\u001b[0m \u001b[1m80s\u001b[0m 7s/step - accuracy: 1.0000 - loss: 0.0025 - val_accuracy: 0.3333 - val_loss: 4.8531 - learning_rate: 1.9531e-06\n",
      "Epoch 95/100\n",
      "\u001b[1m11/11\u001b[0m \u001b[32m━━━━━━━━━━━━━━━━━━━━\u001b[0m\u001b[37m\u001b[0m \u001b[1m81s\u001b[0m 8s/step - accuracy: 1.0000 - loss: 0.0024 - val_accuracy: 0.3333 - val_loss: 5.4114 - learning_rate: 1.9531e-06\n",
      "Epoch 96/100\n",
      "\u001b[1m11/11\u001b[0m \u001b[32m━━━━━━━━━━━━━━━━━━━━\u001b[0m\u001b[37m\u001b[0m \u001b[1m81s\u001b[0m 7s/step - accuracy: 1.0000 - loss: 0.0016 - val_accuracy: 0.3333 - val_loss: 4.8393 - learning_rate: 1.9531e-06\n",
      "Epoch 97/100\n",
      "\u001b[1m11/11\u001b[0m \u001b[32m━━━━━━━━━━━━━━━━━━━━\u001b[0m\u001b[37m\u001b[0m \u001b[1m80s\u001b[0m 7s/step - accuracy: 1.0000 - loss: 0.0016 - val_accuracy: 0.3333 - val_loss: 5.9624 - learning_rate: 1.9531e-06\n",
      "Epoch 98/100\n",
      "\u001b[1m11/11\u001b[0m \u001b[32m━━━━━━━━━━━━━━━━━━━━\u001b[0m\u001b[37m\u001b[0m \u001b[1m80s\u001b[0m 7s/step - accuracy: 1.0000 - loss: 0.0027 - val_accuracy: 0.3333 - val_loss: 5.8944 - learning_rate: 1.9531e-06\n",
      "Epoch 99/100\n",
      "\u001b[1m11/11\u001b[0m \u001b[32m━━━━━━━━━━━━━━━━━━━━\u001b[0m\u001b[37m\u001b[0m \u001b[1m82s\u001b[0m 7s/step - accuracy: 1.0000 - loss: 0.0020 - val_accuracy: 0.3333 - val_loss: 5.3006 - learning_rate: 1.9531e-06\n",
      "Epoch 100/100\n",
      "\u001b[1m11/11\u001b[0m \u001b[32m━━━━━━━━━━━━━━━━━━━━\u001b[0m\u001b[37m\u001b[0m \u001b[1m80s\u001b[0m 7s/step - accuracy: 1.0000 - loss: 0.0033 - val_accuracy: 0.3333 - val_loss: 7.9155 - learning_rate: 1.9531e-06\n"
     ]
    }
   ],
   "source": [
    "history_densenet = model_densenet.fit(train_generator, epochs=100, validation_data=val_generator, callbacks=[lr_scheduler])"
   ]
  },
  {
   "cell_type": "code",
   "execution_count": 15,
   "id": "d871fdc0",
   "metadata": {},
   "outputs": [
    {
     "data": {
      "image/png": "[encoded data removed]",
      "text/plain": [
       "<Figure size 432x288 with 1 Axes>"
      ]
     },
     "metadata": {
      "needs_background": "light"
     },
     "output_type": "display_data"
    },
    {
     "data": {
      "image/png": "[encoded data removed]",
      "text/plain": [
       "<Figure size 432x288 with 1 Axes>"
      ]
     },
     "metadata": {
      "needs_background": "light"
     },
     "output_type": "display_data"
    }
   ],
   "source": [
    "#Analise da precisao do treinamento e validacao\n",
    "plt.plot(history_densenet.history['accuracy'], label='Training Accuracy')\n",
    "plt.plot(history_densenet.history['val_accuracy'], label='Validation Accuracy')\n",
    "plt.title('Training and Validation Accuracy')\n",
    "plt.xlabel('Epoch')\n",
    "plt.ylabel('Accuracy')\n",
    "plt.legend()\n",
    "plt.show()\n",
    "\n",
    "#Analise da loss do treinamento e validacao\n",
    "plt.plot(history_densenet.history['loss'], label='Training Loss')\n",
    "plt.plot(history_densenet.history['val_loss'], label='Validation Loss')\n",
    "plt.title('Training and Validation Loss')\n",
    "plt.xlabel('Epoch')\n",
    "plt.ylabel('Loss')\n",
    "plt.legend()\n",
    "plt.show()"
   ]
  },
  {
   "cell_type": "code",
   "execution_count": 16,
   "id": "a7364437",
   "metadata": {},
   "outputs": [
    {
     "name": "stdout",
     "output_type": "stream",
     "text": [
      "\u001b[1m3/3\u001b[0m \u001b[32m━━━━━━━━━━━━━━━━━━━━\u001b[0m\u001b[37m\u001b[0m \u001b[1m14s\u001b[0m 4s/step - accuracy: 0.1009 - loss: 8.3194\n",
      "Test Accuracy: 10.81%\n",
      "Test Loss: 8.9170\n"
     ]
    }
   ],
   "source": [
    "test_loss, test_accuracy = model_densenet.evaluate(test_generator)\n",
    "\n",
    "print(f'Test Accuracy: {test_accuracy * 100:.2f}%')\n",
    "print(f'Test Loss: {test_loss:.4f}')"
   ]
  },
  {
   "cell_type": "code",
   "execution_count": 17,
   "id": "a42a072b",
   "metadata": {},
   "outputs": [
    {
     "name": "stdout",
     "output_type": "stream",
     "text": [
      "\u001b[1m3/3\u001b[0m \u001b[32m━━━━━━━━━━━━━━━━━━━━\u001b[0m\u001b[37m\u001b[0m \u001b[1m23s\u001b[0m 6s/step\n"
     ]
    },
    {
     "data": {
      "text/plain": [
       "array([0, 0, 1, 3, 0, 0, 2, 0, 1, 2, 3, 3, 1, 2, 0, 3, 2, 1, 3, 1, 2, 0,\n",
       "       2, 1, 0, 0, 2, 0, 3, 1, 0, 1, 2, 2, 1, 3, 2], dtype=int64)"
      ]
     },
     "execution_count": 17,
     "metadata": {},
     "output_type": "execute_result"
    }
   ],
   "source": [
    "predictions = model_densenet.predict(test_generator)\n",
    "\n",
    "#Pega os indices dos labels que foram 'predicted'\n",
    "predicted_labels = np.argmax(predictions, axis=1)\n",
    "predicted_labels"
   ]
  },
  {
   "cell_type": "code",
   "execution_count": 18,
   "id": "642f64e4",
   "metadata": {},
   "outputs": [
    {
     "data": {
      "text/plain": [
       "array([0, 0, 0, 0, 0, 0, 0, 0, 0, 1, 1, 1, 1, 1, 1, 1, 1, 1, 1, 2, 2, 2,\n",
       "       2, 2, 2, 2, 2, 2, 3, 3, 3, 3, 3, 3, 3, 3, 3])"
      ]
     },
     "execution_count": 18,
     "metadata": {},
     "output_type": "execute_result"
    }
   ],
   "source": [
    "#Pega os indices corretos\n",
    "true_labels = test_generator.labels\n",
    "true_labels"
   ]
  },
  {
   "cell_type": "code",
   "execution_count": 19,
   "id": "9e25abdb",
   "metadata": {},
   "outputs": [
    {
     "data": {
      "text/plain": [
       "array([ 2,  3,  6,  8,  9, 10, 11, 13, 14, 15, 16, 18, 19, 21, 23, 24, 25,\n",
       "       27, 29, 30, 31, 32, 33, 34, 36], dtype=int64)"
      ]
     },
     "execution_count": 19,
     "metadata": {},
     "output_type": "execute_result"
    }
   ],
   "source": [
    "#Pega os indices que foram classificados errados (i.e. vai pegar o indice dos dois arrays que estao diferentes EM VALOR)\n",
    "misclassified_indices = np.where(predicted_labels != true_labels)[0]\n",
    "misclassified_indices"
   ]
  },
  {
   "cell_type": "code",
   "execution_count": 20,
   "id": "0110b35b",
   "metadata": {},
   "outputs": [
    {
     "data": {
      "image/png": "[encoded data removed]",
      "text/plain": [
       "<Figure size 432x432 with 2 Axes>"
      ]
     },
     "metadata": {
      "needs_background": "light"
     },
     "output_type": "display_data"
    }
   ],
   "source": [
    "confusion = confusion_matrix(true_labels, predicted_labels)\n",
    "\n",
    "\n",
    "plt.figure(figsize=(6, 6))\n",
    "sns.heatmap(confusion, annot=True, fmt='d', cmap='Reds', xticklabels=range(4), yticklabels=range(4))\n",
    "plt.xlabel('Valor previsto')\n",
    "plt.ylabel('Valor real')\n",
    "plt.title('Matriz de confusao')\n",
    "plt.show()"
   ]
  },
  {
   "cell_type": "code",
   "execution_count": 21,
   "id": "b1c0bd32",
   "metadata": {},
   "outputs": [],
   "source": [
    "model_densenet.save(\"model_densenet_lrdecay.keras\")"
   ]
  },
  {
   "cell_type": "code",
   "execution_count": null,
   "id": "ce3ef4e4",
   "metadata": {},
   "outputs": [],
   "source": []
  }
 ],
 "metadata": {
  "kernelspec": {
   "display_name": "Python 3 (ipykernel)",
   "language": "python",
   "name": "python3"
  },
  "language_info": {
   "codemirror_mode": {
    "name": "ipython",
    "version": 3
   },
   "file_extension": ".py",
   "mimetype": "text/x-python",
   "name": "python",
   "nbconvert_exporter": "python",
   "pygments_lexer": "ipython3",
   "version": "3.9.12"
  }
 },
 "nbformat": 4,
 "nbformat_minor": 5
}
